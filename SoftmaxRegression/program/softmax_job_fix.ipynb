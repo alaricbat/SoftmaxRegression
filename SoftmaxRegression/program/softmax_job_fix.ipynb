{
 "cells": [
  {
   "cell_type": "code",
   "execution_count": 156,
   "id": "4fb5c525",
   "metadata": {},
   "outputs": [],
   "source": [
    "import numpy as np\n",
    "import matplotlib.pyplot as plt\n",
    "import pandas as pd\n",
    "from IPython.display import Image, display"
   ]
  },
  {
   "cell_type": "markdown",
   "id": "33e44e5e",
   "metadata": {},
   "source": [
    "IMPORT DATA"
   ]
  },
  {
   "cell_type": "code",
   "execution_count": 349,
   "id": "de6ba39d",
   "metadata": {},
   "outputs": [],
   "source": [
    "df = pd.read_excel('../dataset/dataset.xlsx', sheet_name=0)"
   ]
  },
  {
   "cell_type": "code",
   "execution_count": 350,
   "id": "1f983ff3",
   "metadata": {},
   "outputs": [
    {
     "data": {
      "application/vnd.microsoft.datawrangler.viewer.v0+json": {
       "columns": [
        {
         "name": "index",
         "rawType": "int64",
         "type": "integer"
        },
        {
         "name": "Sr.No.",
         "rawType": "float64",
         "type": "float"
        },
        {
         "name": "Course",
         "rawType": "float64",
         "type": "float"
        },
        {
         "name": "Job profession",
         "rawType": "object",
         "type": "string"
        },
        {
         "name": "Student",
         "rawType": "object",
         "type": "string"
        },
        {
         "name": "Linguistic",
         "rawType": "int64",
         "type": "integer"
        },
        {
         "name": "Musical",
         "rawType": "int64",
         "type": "integer"
        },
        {
         "name": "Bodily",
         "rawType": "int64",
         "type": "integer"
        },
        {
         "name": "s/p",
         "rawType": "object",
         "type": "string"
        },
        {
         "name": "P1",
         "rawType": "object",
         "type": "string"
        },
        {
         "name": "P2",
         "rawType": "object",
         "type": "string"
        },
        {
         "name": "P3",
         "rawType": "object",
         "type": "string"
        }
       ],
       "ref": "13028a74-bf59-4cb0-a2e2-67e4788ee125",
       "rows": [
        [
         "0",
         "1.0",
         null,
         "Astronomer\n",
         "S1",
         "11",
         "5",
         "12",
         "s1",
         "AVG",
         "POOR",
         "AVG"
        ],
        [
         "1",
         null,
         null,
         "Astronomer\n",
         "S2",
         "12",
         "6",
         "12",
         "s2",
         "AVG",
         "POOR",
         "AVG"
        ],
        [
         "2",
         null,
         null,
         "Astronomer\n",
         "S3",
         "13",
         "7",
         "12",
         "s3",
         "AVG",
         "POOR",
         "AVG"
        ],
        [
         "3",
         null,
         null,
         "Astronomer\n",
         "S4",
         "14",
         "8",
         "12",
         "s4",
         "AVG",
         "POOR",
         "AVG"
        ],
        [
         "4",
         null,
         null,
         "Astronomer\n",
         "S5",
         "13",
         "9",
         "12",
         "s5",
         "AVG",
         "POOR",
         "AVG"
        ],
        [
         "5",
         null,
         null,
         "Astronomer\n",
         "S6",
         "12",
         "8",
         "12",
         "s6",
         "AVG",
         "POOR",
         "AVG"
        ],
        [
         "6",
         null,
         null,
         "Astronomer\n",
         "S7",
         "11",
         "7",
         "12",
         "s7",
         "AVG",
         "POOR",
         "AVG"
        ],
        [
         "7",
         null,
         null,
         "Astronomer\n",
         "S8",
         "14",
         "6",
         "12",
         "s8",
         "AVG",
         "POOR",
         "AVG"
        ],
        [
         "8",
         null,
         null,
         "Astronomer\n",
         "S9",
         "11",
         "5",
         "12",
         "s9",
         "AVG",
         "POOR",
         "AVG"
        ],
        [
         "9",
         null,
         null,
         "Astronomer\n",
         "S10",
         "12",
         "5",
         "13",
         "s10",
         "AVG",
         "POOR",
         "AVG"
        ],
        [
         "10",
         null,
         null,
         "Astronomer\n",
         "S11",
         "13",
         "6",
         "13",
         "s11",
         "AVG",
         "POOR",
         "AVG"
        ],
        [
         "11",
         null,
         null,
         "Astronomer\n",
         "S12",
         "14",
         "7",
         "13",
         "s12",
         "AVG",
         "POOR",
         "AVG"
        ],
        [
         "12",
         null,
         null,
         "Astronomer\n",
         "S13",
         "13",
         "8",
         "13",
         "s13",
         "AVG",
         "POOR",
         "AVG"
        ],
        [
         "13",
         null,
         null,
         "Astronomer\n",
         "S14",
         "12",
         "9",
         "13",
         "s14",
         "AVG",
         "POOR",
         "AVG"
        ],
        [
         "14",
         null,
         null,
         "Astronomer\n",
         "S15",
         "11",
         "8",
         "13",
         "s15",
         "AVG",
         "POOR",
         "AVG"
        ],
        [
         "15",
         null,
         null,
         "Astronomer\n",
         "S16",
         "14",
         "7",
         "13",
         "s16",
         "AVG",
         "POOR",
         "AVG"
        ],
        [
         "16",
         null,
         null,
         "Astronomer\n",
         "S17",
         "11",
         "6",
         "13",
         "s17",
         "AVG",
         "POOR",
         "AVG"
        ],
        [
         "17",
         null,
         null,
         "Astronomer\n",
         "S18",
         "12",
         "5",
         "13",
         "s18",
         "AVG",
         "POOR",
         "AVG"
        ],
        [
         "18",
         null,
         null,
         "Astronomer\n",
         "S19",
         "13",
         "5",
         "13",
         "s19",
         "AVG",
         "POOR",
         "AVG"
        ],
        [
         "19",
         null,
         null,
         "Astronomer\n",
         "S20",
         "14",
         "6",
         "14",
         "s20",
         "AVG",
         "POOR",
         "AVG"
        ],
        [
         "20",
         null,
         null,
         "Astronomer\n",
         "S21",
         "13",
         "7",
         "14",
         "s21",
         "AVG",
         "POOR",
         "AVG"
        ],
        [
         "21",
         null,
         null,
         "Astronomer\n",
         "S22",
         "12",
         "8",
         "14",
         "s22",
         "AVG",
         "POOR",
         "AVG"
        ],
        [
         "22",
         null,
         null,
         "Astronomer\n",
         "S23",
         "11",
         "9",
         "14",
         "s23",
         "AVG",
         "POOR",
         "AVG"
        ],
        [
         "23",
         null,
         null,
         "Astronomer\n",
         "S24",
         "14",
         "8",
         "14",
         "s24",
         "AVG",
         "POOR",
         "AVG"
        ],
        [
         "24",
         null,
         null,
         "Astronomer\n",
         "S25",
         "11",
         "7",
         "14",
         "s25",
         "AVG",
         "POOR",
         "AVG"
        ],
        [
         "25",
         null,
         null,
         "Astronomer\n",
         "S26",
         "12",
         "6",
         "14",
         "s26",
         "AVG",
         "POOR",
         "AVG"
        ],
        [
         "26",
         null,
         null,
         "Astronomer\n",
         "S27",
         "13",
         "5",
         "14",
         "s27",
         "AVG",
         "POOR",
         "AVG"
        ],
        [
         "27",
         null,
         null,
         "Astronomer\n",
         "S28",
         "14",
         "5",
         "14",
         "s28",
         "AVG",
         "POOR",
         "AVG"
        ],
        [
         "28",
         null,
         null,
         "Astronomer\n",
         "S29",
         "13",
         "5",
         "14",
         "s29",
         "AVG",
         "POOR",
         "AVG"
        ],
        [
         "29",
         null,
         null,
         "Astronomer\n",
         "S30",
         "12",
         "6",
         "14",
         "s30",
         "AVG",
         "POOR",
         "AVG"
        ],
        [
         "30",
         null,
         null,
         "Astronomer\n",
         "S31",
         "11",
         "7",
         "14",
         "s31",
         "AVG",
         "POOR",
         "AVG"
        ],
        [
         "31",
         null,
         null,
         "Astronomer\n",
         "S32",
         "14",
         "8",
         "14",
         "s32",
         "AVG",
         "POOR",
         "AVG"
        ],
        [
         "32",
         null,
         null,
         "Astronomer\n",
         "S33",
         "11",
         "9",
         "14",
         "s33",
         "AVG",
         "POOR",
         "AVG"
        ],
        [
         "33",
         null,
         null,
         "Astronomer\n",
         "S34",
         "12",
         "8",
         "14",
         "s34",
         "AVG",
         "POOR",
         "AVG"
        ],
        [
         "34",
         null,
         null,
         "Astronomer\n",
         "S35",
         "13",
         "7",
         "11",
         "s35",
         "AVG",
         "POOR",
         "AVG"
        ],
        [
         "35",
         null,
         null,
         "Astronomer\n",
         "S36",
         "14",
         "6",
         "11",
         "s36",
         "AVG",
         "POOR",
         "AVG"
        ],
        [
         "36",
         null,
         null,
         "Astronomer\n",
         "S37",
         "13",
         "5",
         "11",
         "s37",
         "AVG",
         "POOR",
         "AVG"
        ],
        [
         "37",
         null,
         null,
         "Astronomer\n",
         "S38",
         "12",
         "8",
         "11",
         "s38",
         "AVG",
         "POOR",
         "AVG"
        ],
        [
         "38",
         null,
         null,
         "Astronomer\n",
         "S39",
         "11",
         "5",
         "11",
         "s39",
         "AVG",
         "POOR",
         "AVG"
        ],
        [
         "39",
         null,
         null,
         "Astronomer\n",
         "S40",
         "14",
         "6",
         "11",
         "s40",
         "AVG",
         "POOR",
         "AVG"
        ],
        [
         "40",
         null,
         null,
         "Astronomer\n",
         "S41",
         "11",
         "7",
         "11",
         "s41",
         "AVG",
         "POOR",
         "AVG"
        ],
        [
         "41",
         null,
         null,
         "Astronomer\n",
         "S42",
         "12",
         "8",
         "11",
         "s42",
         "AVG",
         "POOR",
         "AVG"
        ],
        [
         "42",
         null,
         null,
         "Astronomer\n",
         "S43",
         "13",
         "9",
         "11",
         "s43",
         "AVG",
         "POOR",
         "AVG"
        ],
        [
         "43",
         null,
         null,
         "Astronomer\n",
         "S44",
         "14",
         "8",
         "11",
         "s44",
         "AVG",
         "POOR",
         "AVG"
        ],
        [
         "44",
         null,
         null,
         "Astronomer\n",
         "S45",
         "13",
         "7",
         "12",
         "s45",
         "AVG",
         "POOR",
         "AVG"
        ],
        [
         "45",
         null,
         null,
         "Astronomer\n",
         "S46",
         "12",
         "6",
         "12",
         "s46",
         "AVG",
         "POOR",
         "AVG"
        ],
        [
         "46",
         null,
         null,
         "Astronomer\n",
         "S47",
         "11",
         "5",
         "12",
         "s47",
         "AVG",
         "POOR",
         "AVG"
        ],
        [
         "47",
         null,
         null,
         "Astronomer\n",
         "S48",
         "14",
         "9",
         "12",
         "s48",
         "AVG",
         "POOR",
         "AVG"
        ],
        [
         "48",
         null,
         null,
         "Astronomer\n",
         "S49",
         "11",
         "7",
         "12",
         "s49",
         "AVG",
         "POOR",
         "AVG"
        ],
        [
         "49",
         null,
         null,
         "Astronomer\n",
         "S50",
         "12",
         "9",
         "12",
         "s50",
         "AVG",
         "POOR",
         "AVG"
        ]
       ],
       "shape": {
        "columns": 11,
        "rows": 150
       }
      },
      "text/html": [
       "<div>\n",
       "<style scoped>\n",
       "    .dataframe tbody tr th:only-of-type {\n",
       "        vertical-align: middle;\n",
       "    }\n",
       "\n",
       "    .dataframe tbody tr th {\n",
       "        vertical-align: top;\n",
       "    }\n",
       "\n",
       "    .dataframe thead th {\n",
       "        text-align: right;\n",
       "    }\n",
       "</style>\n",
       "<table border=\"1\" class=\"dataframe\">\n",
       "  <thead>\n",
       "    <tr style=\"text-align: right;\">\n",
       "      <th></th>\n",
       "      <th>Sr.No.</th>\n",
       "      <th>Course</th>\n",
       "      <th>Job profession</th>\n",
       "      <th>Student</th>\n",
       "      <th>Linguistic</th>\n",
       "      <th>Musical</th>\n",
       "      <th>Bodily</th>\n",
       "      <th>s/p</th>\n",
       "      <th>P1</th>\n",
       "      <th>P2</th>\n",
       "      <th>P3</th>\n",
       "    </tr>\n",
       "  </thead>\n",
       "  <tbody>\n",
       "    <tr>\n",
       "      <th>0</th>\n",
       "      <td>1.0</td>\n",
       "      <td>NaN</td>\n",
       "      <td>Astronomer\\n</td>\n",
       "      <td>S1</td>\n",
       "      <td>11</td>\n",
       "      <td>5</td>\n",
       "      <td>12</td>\n",
       "      <td>s1</td>\n",
       "      <td>AVG</td>\n",
       "      <td>POOR</td>\n",
       "      <td>AVG</td>\n",
       "    </tr>\n",
       "    <tr>\n",
       "      <th>1</th>\n",
       "      <td>NaN</td>\n",
       "      <td>NaN</td>\n",
       "      <td>Astronomer\\n</td>\n",
       "      <td>S2</td>\n",
       "      <td>12</td>\n",
       "      <td>6</td>\n",
       "      <td>12</td>\n",
       "      <td>s2</td>\n",
       "      <td>AVG</td>\n",
       "      <td>POOR</td>\n",
       "      <td>AVG</td>\n",
       "    </tr>\n",
       "    <tr>\n",
       "      <th>2</th>\n",
       "      <td>NaN</td>\n",
       "      <td>NaN</td>\n",
       "      <td>Astronomer\\n</td>\n",
       "      <td>S3</td>\n",
       "      <td>13</td>\n",
       "      <td>7</td>\n",
       "      <td>12</td>\n",
       "      <td>s3</td>\n",
       "      <td>AVG</td>\n",
       "      <td>POOR</td>\n",
       "      <td>AVG</td>\n",
       "    </tr>\n",
       "    <tr>\n",
       "      <th>3</th>\n",
       "      <td>NaN</td>\n",
       "      <td>NaN</td>\n",
       "      <td>Astronomer\\n</td>\n",
       "      <td>S4</td>\n",
       "      <td>14</td>\n",
       "      <td>8</td>\n",
       "      <td>12</td>\n",
       "      <td>s4</td>\n",
       "      <td>AVG</td>\n",
       "      <td>POOR</td>\n",
       "      <td>AVG</td>\n",
       "    </tr>\n",
       "    <tr>\n",
       "      <th>4</th>\n",
       "      <td>NaN</td>\n",
       "      <td>NaN</td>\n",
       "      <td>Astronomer\\n</td>\n",
       "      <td>S5</td>\n",
       "      <td>13</td>\n",
       "      <td>9</td>\n",
       "      <td>12</td>\n",
       "      <td>s5</td>\n",
       "      <td>AVG</td>\n",
       "      <td>POOR</td>\n",
       "      <td>AVG</td>\n",
       "    </tr>\n",
       "    <tr>\n",
       "      <th>...</th>\n",
       "      <td>...</td>\n",
       "      <td>...</td>\n",
       "      <td>...</td>\n",
       "      <td>...</td>\n",
       "      <td>...</td>\n",
       "      <td>...</td>\n",
       "      <td>...</td>\n",
       "      <td>...</td>\n",
       "      <td>...</td>\n",
       "      <td>...</td>\n",
       "      <td>...</td>\n",
       "    </tr>\n",
       "    <tr>\n",
       "      <th>145</th>\n",
       "      <td>NaN</td>\n",
       "      <td>NaN</td>\n",
       "      <td>Marine Biologist\\n</td>\n",
       "      <td>S146</td>\n",
       "      <td>6</td>\n",
       "      <td>5</td>\n",
       "      <td>12</td>\n",
       "      <td>s146</td>\n",
       "      <td>POOR</td>\n",
       "      <td>POOR</td>\n",
       "      <td>AVG</td>\n",
       "    </tr>\n",
       "    <tr>\n",
       "      <th>146</th>\n",
       "      <td>NaN</td>\n",
       "      <td>NaN</td>\n",
       "      <td>Marine Biologist\\n</td>\n",
       "      <td>S147</td>\n",
       "      <td>8</td>\n",
       "      <td>6</td>\n",
       "      <td>14</td>\n",
       "      <td>s147</td>\n",
       "      <td>POOR</td>\n",
       "      <td>POOR</td>\n",
       "      <td>AVG</td>\n",
       "    </tr>\n",
       "    <tr>\n",
       "      <th>147</th>\n",
       "      <td>NaN</td>\n",
       "      <td>NaN</td>\n",
       "      <td>Marine Biologist\\n</td>\n",
       "      <td>S148</td>\n",
       "      <td>7</td>\n",
       "      <td>7</td>\n",
       "      <td>12</td>\n",
       "      <td>s148</td>\n",
       "      <td>POOR</td>\n",
       "      <td>POOR</td>\n",
       "      <td>AVG</td>\n",
       "    </tr>\n",
       "    <tr>\n",
       "      <th>148</th>\n",
       "      <td>NaN</td>\n",
       "      <td>NaN</td>\n",
       "      <td>Marine Biologist\\n</td>\n",
       "      <td>S149</td>\n",
       "      <td>6</td>\n",
       "      <td>8</td>\n",
       "      <td>13</td>\n",
       "      <td>s149</td>\n",
       "      <td>POOR</td>\n",
       "      <td>POOR</td>\n",
       "      <td>AVG</td>\n",
       "    </tr>\n",
       "    <tr>\n",
       "      <th>149</th>\n",
       "      <td>NaN</td>\n",
       "      <td>NaN</td>\n",
       "      <td>Marine Biologist\\n</td>\n",
       "      <td>S150</td>\n",
       "      <td>9</td>\n",
       "      <td>9</td>\n",
       "      <td>11</td>\n",
       "      <td>s150</td>\n",
       "      <td>POOR</td>\n",
       "      <td>POOR</td>\n",
       "      <td>AVG</td>\n",
       "    </tr>\n",
       "  </tbody>\n",
       "</table>\n",
       "<p>150 rows × 11 columns</p>\n",
       "</div>"
      ],
      "text/plain": [
       "     Sr.No.  Course      Job profession Student  Linguistic  Musical  Bodily  \\\n",
       "0       1.0     NaN        Astronomer\\n      S1          11        5      12   \n",
       "1       NaN     NaN        Astronomer\\n      S2          12        6      12   \n",
       "2       NaN     NaN        Astronomer\\n      S3          13        7      12   \n",
       "3       NaN     NaN        Astronomer\\n      S4          14        8      12   \n",
       "4       NaN     NaN        Astronomer\\n      S5          13        9      12   \n",
       "..      ...     ...                 ...     ...         ...      ...     ...   \n",
       "145     NaN     NaN  Marine Biologist\\n    S146           6        5      12   \n",
       "146     NaN     NaN  Marine Biologist\\n    S147           8        6      14   \n",
       "147     NaN     NaN  Marine Biologist\\n    S148           7        7      12   \n",
       "148     NaN     NaN  Marine Biologist\\n    S149           6        8      13   \n",
       "149     NaN     NaN  Marine Biologist\\n    S150           9        9      11   \n",
       "\n",
       "      s/p    P1    P2   P3  \n",
       "0      s1   AVG  POOR  AVG  \n",
       "1      s2   AVG  POOR  AVG  \n",
       "2      s3   AVG  POOR  AVG  \n",
       "3      s4   AVG  POOR  AVG  \n",
       "4      s5   AVG  POOR  AVG  \n",
       "..    ...   ...   ...  ...  \n",
       "145  s146  POOR  POOR  AVG  \n",
       "146  s147  POOR  POOR  AVG  \n",
       "147  s148  POOR  POOR  AVG  \n",
       "148  s149  POOR  POOR  AVG  \n",
       "149  s150  POOR  POOR  AVG  \n",
       "\n",
       "[150 rows x 11 columns]"
      ]
     },
     "execution_count": 350,
     "metadata": {},
     "output_type": "execute_result"
    }
   ],
   "source": [
    "df"
   ]
  },
  {
   "cell_type": "markdown",
   "id": "e770eff4",
   "metadata": {},
   "source": [
    "VISUALZATION DATA"
   ]
  },
  {
   "cell_type": "code",
   "execution_count": 351,
   "id": "ca594c52",
   "metadata": {},
   "outputs": [
    {
     "data": {
      "image/png": "[encoded data removed]",
      "text/plain": [
       "<Figure size 1000x600 with 2 Axes>"
      ]
     },
     "metadata": {},
     "output_type": "display_data"
    }
   ],
   "source": [
    "import seaborn as sns\n",
    "\n",
    "corr = df.drop(columns=[\n",
    "    'Sr.No.', \n",
    "    'Course', \n",
    "    'Job profession', \n",
    "    'Student',\n",
    "    's/p',\n",
    "    'P1',\n",
    "    'P2',\n",
    "    'P3',]).corr()\n",
    "\n",
    "\n",
    "plt.figure(figsize=(10,6))\n",
    "sns.heatmap(corr, annot=True, cmap='coolwarm')\n",
    "plt.title('Correlation Heatmap')\n",
    "plt.show()"
   ]
  },
  {
   "cell_type": "markdown",
   "id": "3284e4b8",
   "metadata": {},
   "source": [
    "HOLDING DATA"
   ]
  },
  {
   "cell_type": "code",
   "execution_count": 352,
   "id": "dd2c3b4f",
   "metadata": {},
   "outputs": [
    {
     "data": {
      "application/vnd.microsoft.datawrangler.viewer.v0+json": {
       "columns": [
        {
         "name": "index",
         "rawType": "int64",
         "type": "integer"
        },
        {
         "name": "P1",
         "rawType": "object",
         "type": "string"
        },
        {
         "name": "P2",
         "rawType": "object",
         "type": "string"
        },
        {
         "name": "P3",
         "rawType": "object",
         "type": "string"
        }
       ],
       "ref": "cfe80ff4-0653-43ab-ac58-1b71613d6a89",
       "rows": [
        [
         "0",
         "AVG",
         "POOR",
         "AVG"
        ],
        [
         "1",
         "AVG",
         "POOR",
         "AVG"
        ],
        [
         "2",
         "AVG",
         "POOR",
         "AVG"
        ],
        [
         "3",
         "AVG",
         "POOR",
         "AVG"
        ],
        [
         "4",
         "AVG",
         "POOR",
         "AVG"
        ],
        [
         "5",
         "AVG",
         "POOR",
         "AVG"
        ],
        [
         "6",
         "AVG",
         "POOR",
         "AVG"
        ],
        [
         "7",
         "AVG",
         "POOR",
         "AVG"
        ],
        [
         "8",
         "AVG",
         "POOR",
         "AVG"
        ],
        [
         "9",
         "AVG",
         "POOR",
         "AVG"
        ],
        [
         "10",
         "AVG",
         "POOR",
         "AVG"
        ],
        [
         "11",
         "AVG",
         "POOR",
         "AVG"
        ],
        [
         "12",
         "AVG",
         "POOR",
         "AVG"
        ],
        [
         "13",
         "AVG",
         "POOR",
         "AVG"
        ],
        [
         "14",
         "AVG",
         "POOR",
         "AVG"
        ],
        [
         "15",
         "AVG",
         "POOR",
         "AVG"
        ],
        [
         "16",
         "AVG",
         "POOR",
         "AVG"
        ],
        [
         "17",
         "AVG",
         "POOR",
         "AVG"
        ],
        [
         "18",
         "AVG",
         "POOR",
         "AVG"
        ],
        [
         "19",
         "AVG",
         "POOR",
         "AVG"
        ],
        [
         "20",
         "AVG",
         "POOR",
         "AVG"
        ],
        [
         "21",
         "AVG",
         "POOR",
         "AVG"
        ],
        [
         "22",
         "AVG",
         "POOR",
         "AVG"
        ],
        [
         "23",
         "AVG",
         "POOR",
         "AVG"
        ],
        [
         "24",
         "AVG",
         "POOR",
         "AVG"
        ],
        [
         "25",
         "AVG",
         "POOR",
         "AVG"
        ],
        [
         "26",
         "AVG",
         "POOR",
         "AVG"
        ],
        [
         "27",
         "AVG",
         "POOR",
         "AVG"
        ],
        [
         "28",
         "AVG",
         "POOR",
         "AVG"
        ],
        [
         "29",
         "AVG",
         "POOR",
         "AVG"
        ],
        [
         "30",
         "AVG",
         "POOR",
         "AVG"
        ],
        [
         "31",
         "AVG",
         "POOR",
         "AVG"
        ],
        [
         "32",
         "AVG",
         "POOR",
         "AVG"
        ],
        [
         "33",
         "AVG",
         "POOR",
         "AVG"
        ],
        [
         "34",
         "AVG",
         "POOR",
         "AVG"
        ],
        [
         "35",
         "AVG",
         "POOR",
         "AVG"
        ],
        [
         "36",
         "AVG",
         "POOR",
         "AVG"
        ],
        [
         "37",
         "AVG",
         "POOR",
         "AVG"
        ],
        [
         "38",
         "AVG",
         "POOR",
         "AVG"
        ],
        [
         "39",
         "AVG",
         "POOR",
         "AVG"
        ],
        [
         "40",
         "AVG",
         "POOR",
         "AVG"
        ],
        [
         "41",
         "AVG",
         "POOR",
         "AVG"
        ],
        [
         "42",
         "AVG",
         "POOR",
         "AVG"
        ],
        [
         "43",
         "AVG",
         "POOR",
         "AVG"
        ],
        [
         "44",
         "AVG",
         "POOR",
         "AVG"
        ],
        [
         "45",
         "AVG",
         "POOR",
         "AVG"
        ],
        [
         "46",
         "AVG",
         "POOR",
         "AVG"
        ],
        [
         "47",
         "AVG",
         "POOR",
         "AVG"
        ],
        [
         "48",
         "AVG",
         "POOR",
         "AVG"
        ],
        [
         "49",
         "AVG",
         "POOR",
         "AVG"
        ]
       ],
       "shape": {
        "columns": 3,
        "rows": 150
       }
      },
      "text/html": [
       "<div>\n",
       "<style scoped>\n",
       "    .dataframe tbody tr th:only-of-type {\n",
       "        vertical-align: middle;\n",
       "    }\n",
       "\n",
       "    .dataframe tbody tr th {\n",
       "        vertical-align: top;\n",
       "    }\n",
       "\n",
       "    .dataframe thead th {\n",
       "        text-align: right;\n",
       "    }\n",
       "</style>\n",
       "<table border=\"1\" class=\"dataframe\">\n",
       "  <thead>\n",
       "    <tr style=\"text-align: right;\">\n",
       "      <th></th>\n",
       "      <th>P1</th>\n",
       "      <th>P2</th>\n",
       "      <th>P3</th>\n",
       "    </tr>\n",
       "  </thead>\n",
       "  <tbody>\n",
       "    <tr>\n",
       "      <th>0</th>\n",
       "      <td>AVG</td>\n",
       "      <td>POOR</td>\n",
       "      <td>AVG</td>\n",
       "    </tr>\n",
       "    <tr>\n",
       "      <th>1</th>\n",
       "      <td>AVG</td>\n",
       "      <td>POOR</td>\n",
       "      <td>AVG</td>\n",
       "    </tr>\n",
       "    <tr>\n",
       "      <th>2</th>\n",
       "      <td>AVG</td>\n",
       "      <td>POOR</td>\n",
       "      <td>AVG</td>\n",
       "    </tr>\n",
       "    <tr>\n",
       "      <th>3</th>\n",
       "      <td>AVG</td>\n",
       "      <td>POOR</td>\n",
       "      <td>AVG</td>\n",
       "    </tr>\n",
       "    <tr>\n",
       "      <th>4</th>\n",
       "      <td>AVG</td>\n",
       "      <td>POOR</td>\n",
       "      <td>AVG</td>\n",
       "    </tr>\n",
       "    <tr>\n",
       "      <th>...</th>\n",
       "      <td>...</td>\n",
       "      <td>...</td>\n",
       "      <td>...</td>\n",
       "    </tr>\n",
       "    <tr>\n",
       "      <th>145</th>\n",
       "      <td>POOR</td>\n",
       "      <td>POOR</td>\n",
       "      <td>AVG</td>\n",
       "    </tr>\n",
       "    <tr>\n",
       "      <th>146</th>\n",
       "      <td>POOR</td>\n",
       "      <td>POOR</td>\n",
       "      <td>AVG</td>\n",
       "    </tr>\n",
       "    <tr>\n",
       "      <th>147</th>\n",
       "      <td>POOR</td>\n",
       "      <td>POOR</td>\n",
       "      <td>AVG</td>\n",
       "    </tr>\n",
       "    <tr>\n",
       "      <th>148</th>\n",
       "      <td>POOR</td>\n",
       "      <td>POOR</td>\n",
       "      <td>AVG</td>\n",
       "    </tr>\n",
       "    <tr>\n",
       "      <th>149</th>\n",
       "      <td>POOR</td>\n",
       "      <td>POOR</td>\n",
       "      <td>AVG</td>\n",
       "    </tr>\n",
       "  </tbody>\n",
       "</table>\n",
       "<p>150 rows × 3 columns</p>\n",
       "</div>"
      ],
      "text/plain": [
       "       P1    P2   P3\n",
       "0     AVG  POOR  AVG\n",
       "1     AVG  POOR  AVG\n",
       "2     AVG  POOR  AVG\n",
       "3     AVG  POOR  AVG\n",
       "4     AVG  POOR  AVG\n",
       "..    ...   ...  ...\n",
       "145  POOR  POOR  AVG\n",
       "146  POOR  POOR  AVG\n",
       "147  POOR  POOR  AVG\n",
       "148  POOR  POOR  AVG\n",
       "149  POOR  POOR  AVG\n",
       "\n",
       "[150 rows x 3 columns]"
      ]
     },
     "execution_count": 352,
     "metadata": {},
     "output_type": "execute_result"
    }
   ],
   "source": [
    "# X = df.drop(list(df.columns[0:4]) + ['s/'], axis=1)\n",
    "# X = df.drop(list(df.columns[0:4]) + list(df.columns[12:]), axis=1)\n",
    "X = df.drop(list(df.columns[0:8]), axis=1)\n",
    "X"
   ]
  },
  {
   "cell_type": "markdown",
   "id": "0bf5459b",
   "metadata": {},
   "source": [
    "ENCODE FOR ONE - HOT"
   ]
  },
  {
   "cell_type": "code",
   "execution_count": 353,
   "id": "3a844b4b",
   "metadata": {},
   "outputs": [],
   "source": [
    "import pandas as pd\n",
    "import numpy as np\n",
    "\n",
    "def one_hot_encode(df_input, columns_to_encode, valid_categories):\n",
    "    \"\"\"\n",
    "    对指定的 DataFrame 列进行手动 One-Hot 编码。\n",
    "\n",
    "    参数:\n",
    "        df_input (pd.DataFrame): 原始数据的 DataFrame。\n",
    "        columns_to_encode (list): 需要进行 One-Hot 编码的列名列表。\n",
    "\n",
    "    返回:\n",
    "        pd.DataFrame: 返回一个新的 DataFrame, 其中指定的列已完成 One-Hot 编码，未编码的列保持原样。\n",
    "    \"\"\"\n",
    "    df_encoded = df_input.copy() # 创建一个副本，以避免修改原始 DataFrame\n",
    "    all_new_columns = [] # 用于存储每个已编码列的 DataFrame 列表\n",
    "\n",
    "    for col_name in columns_to_encode:\n",
    "        if col_name not in df_encoded.columns:\n",
    "            continue\n",
    "\n",
    "        unique_categories = df_encoded[col_name].unique()\n",
    "        # 对类别进行排序，以确保新生成的列顺序一致（如有需要）\n",
    "        # 例如：['AVG', 'BEST', 'POOR'] 可以重新排序\n",
    "        unique_categories = [cat for cat in df_encoded[col_name].unique() if cat in valid_categories]\n",
    "        sorted_categories = sorted(unique_categories)\n",
    "\n",
    "        # 为当前类别新生成的列创建临时 DataFrame\n",
    "        col_encoded_df = pd.DataFrame(index=df_encoded.index)\n",
    "\n",
    "        for category in sorted_categories:\n",
    "            new_col_name = f\"{col_name}_{category}\"\n",
    "            # 将原始值与类别匹配则赋值为1，否则赋值为0\n",
    "            col_encoded_df[new_col_name] = (df_encoded[col_name] == category).astype(int)\n",
    "        \n",
    "        all_new_columns.append(col_encoded_df)\n",
    "    \n",
    "    # 移除已进行编码的原始列（df_encoded 中的这些列）\n",
    "    df_encoded = df_encoded.drop(columns=columns_to_encode)\n",
    "    \n",
    "    # 将已编码的新列拼接到原始 DataFrame\n",
    "    # 使用 pd.concat 将已编码的 DataFrame 与剩余的 df_encoded 拼接起来\n",
    "    if all_new_columns: # 确保有新列可以拼接\n",
    "        df_encoded = pd.concat([df_encoded] + all_new_columns, axis=1)\n",
    "\n",
    "    return df_encoded"
   ]
  },
  {
   "cell_type": "code",
   "execution_count": null,
   "id": "10f509c9",
   "metadata": {},
   "outputs": [
    {
     "data": {
      "application/vnd.microsoft.datawrangler.viewer.v0+json": {
       "columns": [
        {
         "name": "index",
         "rawType": "int64",
         "type": "integer"
        },
        {
         "name": "P1_AVG",
         "rawType": "int64",
         "type": "integer"
        },
        {
         "name": "P1_POOR",
         "rawType": "int64",
         "type": "integer"
        },
        {
         "name": "P2_POOR",
         "rawType": "int64",
         "type": "integer"
        },
        {
         "name": "P3_AVG",
         "rawType": "int64",
         "type": "integer"
        },
        {
         "name": "P3_BEST",
         "rawType": "int64",
         "type": "integer"
        }
       ],
       "ref": "d6a71e62-4eb6-438e-92c7-8bd96583a568",
       "rows": [
        [
         "0",
         "1",
         "0",
         "1",
         "1",
         "0"
        ],
        [
         "1",
         "1",
         "0",
         "1",
         "1",
         "0"
        ],
        [
         "2",
         "1",
         "0",
         "1",
         "1",
         "0"
        ],
        [
         "3",
         "1",
         "0",
         "1",
         "1",
         "0"
        ],
        [
         "4",
         "1",
         "0",
         "1",
         "1",
         "0"
        ],
        [
         "5",
         "1",
         "0",
         "1",
         "1",
         "0"
        ],
        [
         "6",
         "1",
         "0",
         "1",
         "1",
         "0"
        ],
        [
         "7",
         "1",
         "0",
         "1",
         "1",
         "0"
        ],
        [
         "8",
         "1",
         "0",
         "1",
         "1",
         "0"
        ],
        [
         "9",
         "1",
         "0",
         "1",
         "1",
         "0"
        ],
        [
         "10",
         "1",
         "0",
         "1",
         "1",
         "0"
        ],
        [
         "11",
         "1",
         "0",
         "1",
         "1",
         "0"
        ],
        [
         "12",
         "1",
         "0",
         "1",
         "1",
         "0"
        ],
        [
         "13",
         "1",
         "0",
         "1",
         "1",
         "0"
        ],
        [
         "14",
         "1",
         "0",
         "1",
         "1",
         "0"
        ],
        [
         "15",
         "1",
         "0",
         "1",
         "1",
         "0"
        ],
        [
         "16",
         "1",
         "0",
         "1",
         "1",
         "0"
        ],
        [
         "17",
         "1",
         "0",
         "1",
         "1",
         "0"
        ],
        [
         "18",
         "1",
         "0",
         "1",
         "1",
         "0"
        ],
        [
         "19",
         "1",
         "0",
         "1",
         "1",
         "0"
        ],
        [
         "20",
         "1",
         "0",
         "1",
         "1",
         "0"
        ],
        [
         "21",
         "1",
         "0",
         "1",
         "1",
         "0"
        ],
        [
         "22",
         "1",
         "0",
         "1",
         "1",
         "0"
        ],
        [
         "23",
         "1",
         "0",
         "1",
         "1",
         "0"
        ],
        [
         "24",
         "1",
         "0",
         "1",
         "1",
         "0"
        ],
        [
         "25",
         "1",
         "0",
         "1",
         "1",
         "0"
        ],
        [
         "26",
         "1",
         "0",
         "1",
         "1",
         "0"
        ],
        [
         "27",
         "1",
         "0",
         "1",
         "1",
         "0"
        ],
        [
         "28",
         "1",
         "0",
         "1",
         "1",
         "0"
        ],
        [
         "29",
         "1",
         "0",
         "1",
         "1",
         "0"
        ],
        [
         "30",
         "1",
         "0",
         "1",
         "1",
         "0"
        ],
        [
         "31",
         "1",
         "0",
         "1",
         "1",
         "0"
        ],
        [
         "32",
         "1",
         "0",
         "1",
         "1",
         "0"
        ],
        [
         "33",
         "1",
         "0",
         "1",
         "1",
         "0"
        ],
        [
         "34",
         "1",
         "0",
         "1",
         "1",
         "0"
        ],
        [
         "35",
         "1",
         "0",
         "1",
         "1",
         "0"
        ],
        [
         "36",
         "1",
         "0",
         "1",
         "1",
         "0"
        ],
        [
         "37",
         "1",
         "0",
         "1",
         "1",
         "0"
        ],
        [
         "38",
         "1",
         "0",
         "1",
         "1",
         "0"
        ],
        [
         "39",
         "1",
         "0",
         "1",
         "1",
         "0"
        ],
        [
         "40",
         "1",
         "0",
         "1",
         "1",
         "0"
        ],
        [
         "41",
         "1",
         "0",
         "1",
         "1",
         "0"
        ],
        [
         "42",
         "1",
         "0",
         "1",
         "1",
         "0"
        ],
        [
         "43",
         "1",
         "0",
         "1",
         "1",
         "0"
        ],
        [
         "44",
         "1",
         "0",
         "1",
         "1",
         "0"
        ],
        [
         "45",
         "1",
         "0",
         "1",
         "1",
         "0"
        ],
        [
         "46",
         "1",
         "0",
         "1",
         "1",
         "0"
        ],
        [
         "47",
         "1",
         "0",
         "1",
         "1",
         "0"
        ],
        [
         "48",
         "1",
         "0",
         "1",
         "1",
         "0"
        ],
        [
         "49",
         "1",
         "0",
         "1",
         "1",
         "0"
        ]
       ],
       "shape": {
        "columns": 5,
        "rows": 150
       }
      },
      "text/html": [
       "<div>\n",
       "<style scoped>\n",
       "    .dataframe tbody tr th:only-of-type {\n",
       "        vertical-align: middle;\n",
       "    }\n",
       "\n",
       "    .dataframe tbody tr th {\n",
       "        vertical-align: top;\n",
       "    }\n",
       "\n",
       "    .dataframe thead th {\n",
       "        text-align: right;\n",
       "    }\n",
       "</style>\n",
       "<table border=\"1\" class=\"dataframe\">\n",
       "  <thead>\n",
       "    <tr style=\"text-align: right;\">\n",
       "      <th></th>\n",
       "      <th>P1_AVG</th>\n",
       "      <th>P1_POOR</th>\n",
       "      <th>P2_POOR</th>\n",
       "      <th>P3_AVG</th>\n",
       "      <th>P3_BEST</th>\n",
       "    </tr>\n",
       "  </thead>\n",
       "  <tbody>\n",
       "    <tr>\n",
       "      <th>0</th>\n",
       "      <td>1</td>\n",
       "      <td>0</td>\n",
       "      <td>1</td>\n",
       "      <td>1</td>\n",
       "      <td>0</td>\n",
       "    </tr>\n",
       "    <tr>\n",
       "      <th>1</th>\n",
       "      <td>1</td>\n",
       "      <td>0</td>\n",
       "      <td>1</td>\n",
       "      <td>1</td>\n",
       "      <td>0</td>\n",
       "    </tr>\n",
       "    <tr>\n",
       "      <th>2</th>\n",
       "      <td>1</td>\n",
       "      <td>0</td>\n",
       "      <td>1</td>\n",
       "      <td>1</td>\n",
       "      <td>0</td>\n",
       "    </tr>\n",
       "    <tr>\n",
       "      <th>3</th>\n",
       "      <td>1</td>\n",
       "      <td>0</td>\n",
       "      <td>1</td>\n",
       "      <td>1</td>\n",
       "      <td>0</td>\n",
       "    </tr>\n",
       "    <tr>\n",
       "      <th>4</th>\n",
       "      <td>1</td>\n",
       "      <td>0</td>\n",
       "      <td>1</td>\n",
       "      <td>1</td>\n",
       "      <td>0</td>\n",
       "    </tr>\n",
       "    <tr>\n",
       "      <th>...</th>\n",
       "      <td>...</td>\n",
       "      <td>...</td>\n",
       "      <td>...</td>\n",
       "      <td>...</td>\n",
       "      <td>...</td>\n",
       "    </tr>\n",
       "    <tr>\n",
       "      <th>145</th>\n",
       "      <td>0</td>\n",
       "      <td>1</td>\n",
       "      <td>1</td>\n",
       "      <td>1</td>\n",
       "      <td>0</td>\n",
       "    </tr>\n",
       "    <tr>\n",
       "      <th>146</th>\n",
       "      <td>0</td>\n",
       "      <td>1</td>\n",
       "      <td>1</td>\n",
       "      <td>1</td>\n",
       "      <td>0</td>\n",
       "    </tr>\n",
       "    <tr>\n",
       "      <th>147</th>\n",
       "      <td>0</td>\n",
       "      <td>1</td>\n",
       "      <td>1</td>\n",
       "      <td>1</td>\n",
       "      <td>0</td>\n",
       "    </tr>\n",
       "    <tr>\n",
       "      <th>148</th>\n",
       "      <td>0</td>\n",
       "      <td>1</td>\n",
       "      <td>1</td>\n",
       "      <td>1</td>\n",
       "      <td>0</td>\n",
       "    </tr>\n",
       "    <tr>\n",
       "      <th>149</th>\n",
       "      <td>0</td>\n",
       "      <td>1</td>\n",
       "      <td>1</td>\n",
       "      <td>1</td>\n",
       "      <td>0</td>\n",
       "    </tr>\n",
       "  </tbody>\n",
       "</table>\n",
       "<p>150 rows × 5 columns</p>\n",
       "</div>"
      ],
      "text/plain": [
       "     P1_AVG  P1_POOR  P2_POOR  P3_AVG  P3_BEST\n",
       "0         1        0        1       1        0\n",
       "1         1        0        1       1        0\n",
       "2         1        0        1       1        0\n",
       "3         1        0        1       1        0\n",
       "4         1        0        1       1        0\n",
       "..      ...      ...      ...     ...      ...\n",
       "145       0        1        1       1        0\n",
       "146       0        1        1       1        0\n",
       "147       0        1        1       1        0\n",
       "148       0        1        1       1        0\n",
       "149       0        1        1       1        0\n",
       "\n",
       "[150 rows x 5 columns]"
      ]
     },
     "execution_count": 354,
     "metadata": {},
     "output_type": "execute_result"
    }
   ],
   "source": [
    "cols_to_encode = ['P1', 'P2', 'P3']\n",
    "valid_categories = ['AVG', 'BEST', 'POOR', 'NA']\n",
    "X_encoded = one_hot_encode(X, cols_to_encode, valid_categories)\n",
    "X_encoded.shape\n",
    "X_encoded"
   ]
  },
  {
   "cell_type": "code",
   "execution_count": 208,
   "id": "f001dab0",
   "metadata": {},
   "outputs": [
    {
     "data": {
      "text/plain": [
       "array([[1., 0., 1., 1., 0.],\n",
       "       [1., 0., 1., 1., 0.],\n",
       "       [1., 0., 1., 1., 0.],\n",
       "       [1., 0., 1., 1., 0.],\n",
       "       [1., 0., 1., 1., 0.],\n",
       "       [1., 0., 1., 1., 0.],\n",
       "       [1., 0., 1., 1., 0.],\n",
       "       [1., 0., 1., 1., 0.],\n",
       "       [1., 0., 1., 1., 0.],\n",
       "       [1., 0., 1., 1., 0.],\n",
       "       [1., 0., 1., 1., 0.],\n",
       "       [1., 0., 1., 1., 0.],\n",
       "       [1., 0., 1., 1., 0.],\n",
       "       [1., 0., 1., 1., 0.],\n",
       "       [1., 0., 1., 1., 0.],\n",
       "       [1., 0., 1., 1., 0.],\n",
       "       [1., 0., 1., 1., 0.],\n",
       "       [1., 0., 1., 1., 0.],\n",
       "       [1., 0., 1., 1., 0.],\n",
       "       [1., 0., 1., 1., 0.],\n",
       "       [1., 0., 1., 1., 0.],\n",
       "       [1., 0., 1., 1., 0.],\n",
       "       [1., 0., 1., 1., 0.],\n",
       "       [1., 0., 1., 1., 0.],\n",
       "       [1., 0., 1., 1., 0.],\n",
       "       [1., 0., 1., 1., 0.],\n",
       "       [1., 0., 1., 1., 0.],\n",
       "       [1., 0., 1., 1., 0.],\n",
       "       [1., 0., 1., 1., 0.],\n",
       "       [1., 0., 1., 1., 0.],\n",
       "       [1., 0., 1., 1., 0.],\n",
       "       [1., 0., 1., 1., 0.],\n",
       "       [1., 0., 1., 1., 0.],\n",
       "       [1., 0., 1., 1., 0.],\n",
       "       [1., 0., 1., 1., 0.],\n",
       "       [1., 0., 1., 1., 0.],\n",
       "       [1., 0., 1., 1., 0.],\n",
       "       [1., 0., 1., 1., 0.],\n",
       "       [1., 0., 1., 1., 0.],\n",
       "       [1., 0., 1., 1., 0.],\n",
       "       [1., 0., 1., 1., 0.],\n",
       "       [1., 0., 1., 1., 0.],\n",
       "       [1., 0., 1., 1., 0.],\n",
       "       [1., 0., 1., 1., 0.],\n",
       "       [1., 0., 1., 1., 0.],\n",
       "       [1., 0., 1., 1., 0.],\n",
       "       [1., 0., 1., 1., 0.],\n",
       "       [1., 0., 1., 1., 0.],\n",
       "       [1., 0., 1., 1., 0.],\n",
       "       [1., 0., 1., 1., 0.],\n",
       "       [1., 0., 1., 0., 1.],\n",
       "       [1., 0., 1., 0., 1.],\n",
       "       [1., 0., 1., 0., 1.],\n",
       "       [1., 0., 1., 0., 1.],\n",
       "       [1., 0., 1., 0., 1.],\n",
       "       [1., 0., 1., 0., 1.],\n",
       "       [1., 0., 1., 0., 1.],\n",
       "       [1., 0., 1., 0., 1.],\n",
       "       [1., 0., 1., 0., 1.],\n",
       "       [1., 0., 1., 0., 1.],\n",
       "       [1., 0., 1., 0., 1.],\n",
       "       [1., 0., 1., 0., 1.],\n",
       "       [1., 0., 1., 0., 1.],\n",
       "       [1., 0., 1., 0., 1.],\n",
       "       [1., 0., 1., 0., 1.],\n",
       "       [1., 0., 1., 0., 1.],\n",
       "       [1., 0., 1., 0., 1.],\n",
       "       [1., 0., 1., 0., 1.],\n",
       "       [1., 0., 1., 0., 1.],\n",
       "       [1., 0., 1., 0., 1.],\n",
       "       [1., 0., 1., 0., 1.],\n",
       "       [1., 0., 1., 0., 1.],\n",
       "       [1., 0., 1., 0., 1.],\n",
       "       [1., 0., 1., 0., 1.],\n",
       "       [1., 0., 1., 0., 1.],\n",
       "       [1., 0., 1., 0., 1.],\n",
       "       [1., 0., 1., 0., 1.],\n",
       "       [1., 0., 1., 0., 1.],\n",
       "       [1., 0., 1., 0., 1.],\n",
       "       [1., 0., 1., 0., 1.],\n",
       "       [1., 0., 1., 0., 1.],\n",
       "       [1., 0., 1., 0., 1.],\n",
       "       [1., 0., 1., 0., 1.],\n",
       "       [1., 0., 1., 0., 1.],\n",
       "       [1., 0., 1., 0., 1.],\n",
       "       [1., 0., 1., 0., 1.],\n",
       "       [1., 0., 1., 0., 1.],\n",
       "       [1., 0., 1., 0., 1.],\n",
       "       [1., 0., 1., 0., 1.],\n",
       "       [1., 0., 1., 0., 1.],\n",
       "       [1., 0., 1., 0., 1.],\n",
       "       [1., 0., 1., 0., 1.],\n",
       "       [1., 0., 1., 0., 1.],\n",
       "       [1., 0., 1., 0., 1.],\n",
       "       [1., 0., 1., 0., 1.],\n",
       "       [1., 0., 1., 0., 1.],\n",
       "       [1., 0., 1., 0., 1.],\n",
       "       [1., 0., 1., 0., 1.],\n",
       "       [1., 0., 1., 0., 1.],\n",
       "       [1., 0., 1., 0., 1.],\n",
       "       [0., 1., 1., 1., 0.],\n",
       "       [0., 1., 1., 1., 0.],\n",
       "       [0., 1., 1., 1., 0.],\n",
       "       [0., 1., 1., 1., 0.],\n",
       "       [0., 1., 1., 1., 0.],\n",
       "       [0., 1., 1., 1., 0.],\n",
       "       [0., 1., 1., 1., 0.],\n",
       "       [0., 1., 1., 1., 0.],\n",
       "       [0., 1., 1., 1., 0.],\n",
       "       [0., 1., 1., 1., 0.],\n",
       "       [0., 1., 1., 1., 0.],\n",
       "       [0., 1., 1., 1., 0.],\n",
       "       [0., 1., 1., 1., 0.],\n",
       "       [0., 1., 1., 1., 0.],\n",
       "       [0., 1., 1., 1., 0.],\n",
       "       [0., 1., 1., 1., 0.],\n",
       "       [0., 1., 1., 1., 0.],\n",
       "       [0., 1., 1., 1., 0.],\n",
       "       [0., 1., 1., 1., 0.],\n",
       "       [0., 1., 1., 1., 0.],\n",
       "       [0., 1., 1., 1., 0.],\n",
       "       [0., 1., 1., 1., 0.],\n",
       "       [0., 1., 1., 1., 0.],\n",
       "       [0., 1., 1., 1., 0.],\n",
       "       [0., 1., 1., 1., 0.],\n",
       "       [0., 1., 1., 1., 0.],\n",
       "       [0., 1., 1., 1., 0.],\n",
       "       [0., 1., 1., 1., 0.],\n",
       "       [0., 1., 1., 1., 0.],\n",
       "       [0., 1., 1., 1., 0.],\n",
       "       [0., 1., 1., 1., 0.],\n",
       "       [0., 1., 1., 1., 0.],\n",
       "       [0., 1., 1., 1., 0.],\n",
       "       [0., 1., 1., 1., 0.],\n",
       "       [0., 1., 1., 1., 0.],\n",
       "       [0., 1., 1., 1., 0.],\n",
       "       [0., 1., 1., 1., 0.],\n",
       "       [0., 1., 1., 1., 0.],\n",
       "       [0., 1., 1., 1., 0.],\n",
       "       [0., 1., 1., 1., 0.],\n",
       "       [0., 1., 1., 1., 0.],\n",
       "       [0., 1., 1., 1., 0.],\n",
       "       [0., 1., 1., 1., 0.],\n",
       "       [0., 1., 1., 1., 0.],\n",
       "       [0., 1., 1., 1., 0.],\n",
       "       [0., 1., 1., 1., 0.],\n",
       "       [0., 1., 1., 1., 0.],\n",
       "       [0., 1., 1., 1., 0.],\n",
       "       [0., 1., 1., 1., 0.],\n",
       "       [0., 1., 1., 1., 0.]])"
      ]
     },
     "execution_count": 208,
     "metadata": {},
     "output_type": "execute_result"
    }
   ],
   "source": [
    "from sklearn.preprocessing import OneHotEncoder\n",
    "encoder = OneHotEncoder(sparse_output=False, handle_unknown='ignore')\n",
    "X_encoded_preprocessing = encoder.fit_transform(X)\n",
    "X_encoded_preprocessing"
   ]
  },
  {
   "cell_type": "code",
   "execution_count": 209,
   "id": "d17f3a28",
   "metadata": {},
   "outputs": [
    {
     "data": {
      "text/plain": [
       "array(['Astronomer\\n', 'Astronomer\\n', 'Astronomer\\n', 'Astronomer\\n',\n",
       "       'Astronomer\\n', 'Astronomer\\n', 'Astronomer\\n', 'Astronomer\\n',\n",
       "       'Astronomer\\n', 'Astronomer\\n', 'Astronomer\\n', 'Astronomer\\n',\n",
       "       'Astronomer\\n', 'Astronomer\\n', 'Astronomer\\n', 'Astronomer\\n',\n",
       "       'Astronomer\\n', 'Astronomer\\n', 'Astronomer\\n', 'Astronomer\\n',\n",
       "       'Astronomer\\n', 'Astronomer\\n', 'Astronomer\\n', 'Astronomer\\n',\n",
       "       'Astronomer\\n', 'Astronomer\\n', 'Astronomer\\n', 'Astronomer\\n',\n",
       "       'Astronomer\\n', 'Astronomer\\n', 'Astronomer\\n', 'Astronomer\\n',\n",
       "       'Astronomer\\n', 'Astronomer\\n', 'Astronomer\\n', 'Astronomer\\n',\n",
       "       'Astronomer\\n', 'Astronomer\\n', 'Astronomer\\n', 'Astronomer\\n',\n",
       "       'Astronomer\\n', 'Astronomer\\n', 'Astronomer\\n', 'Astronomer\\n',\n",
       "       'Astronomer\\n', 'Astronomer\\n', 'Astronomer\\n', 'Astronomer\\n',\n",
       "       'Astronomer\\n', 'Astronomer\\n', 'Geologist', 'Geologist',\n",
       "       'Geologist', 'Geologist', 'Geologist', 'Geologist', 'Geologist',\n",
       "       'Geologist', 'Geologist', 'Geologist', 'Geologist', 'Geologist',\n",
       "       'Geologist', 'Geologist', 'Geologist', 'Geologist', 'Geologist',\n",
       "       'Geologist', 'Geologist', 'Geologist', 'Geologist', 'Geologist',\n",
       "       'Geologist', 'Geologist', 'Geologist', 'Geologist', 'Geologist',\n",
       "       'Geologist', 'Geologist', 'Geologist', 'Geologist', 'Geologist',\n",
       "       'Geologist', 'Geologist', 'Geologist', 'Geologist', 'Geologist',\n",
       "       'Geologist', 'Geologist', 'Geologist', 'Geologist', 'Geologist',\n",
       "       'Geologist', 'Geologist', 'Geologist', 'Geologist', 'Geologist',\n",
       "       'Geologist', 'Geologist', 'Geologist', 'Marine Biologist\\n',\n",
       "       'Marine Biologist\\n', 'Marine Biologist\\n', 'Marine Biologist\\n',\n",
       "       'Marine Biologist\\n', 'Marine Biologist\\n', 'Marine Biologist\\n',\n",
       "       'Marine Biologist\\n', 'Marine Biologist\\n', 'Marine Biologist\\n',\n",
       "       'Marine Biologist\\n', 'Marine Biologist\\n', 'Marine Biologist\\n',\n",
       "       'Marine Biologist\\n', 'Marine Biologist\\n', 'Marine Biologist\\n',\n",
       "       'Marine Biologist\\n', 'Marine Biologist\\n', 'Marine Biologist\\n',\n",
       "       'Marine Biologist\\n', 'Marine Biologist\\n', 'Marine Biologist\\n',\n",
       "       'Marine Biologist\\n', 'Marine Biologist\\n', 'Marine Biologist\\n',\n",
       "       'Marine Biologist\\n', 'Marine Biologist\\n', 'Marine Biologist\\n',\n",
       "       'Marine Biologist\\n', 'Marine Biologist\\n', 'Marine Biologist\\n',\n",
       "       'Marine Biologist\\n', 'Marine Biologist\\n', 'Marine Biologist\\n',\n",
       "       'Marine Biologist\\n', 'Marine Biologist\\n', 'Marine Biologist\\n',\n",
       "       'Marine Biologist\\n', 'Marine Biologist\\n', 'Marine Biologist\\n',\n",
       "       'Marine Biologist\\n', 'Marine Biologist\\n', 'Marine Biologist\\n',\n",
       "       'Marine Biologist\\n', 'Marine Biologist\\n', 'Marine Biologist\\n',\n",
       "       'Marine Biologist\\n', 'Marine Biologist\\n', 'Marine Biologist\\n',\n",
       "       'Marine Biologist\\n'], dtype=object)"
      ]
     },
     "execution_count": 209,
     "metadata": {},
     "output_type": "execute_result"
    }
   ],
   "source": [
    "y = df['Job profession'].values\n",
    "y"
   ]
  },
  {
   "cell_type": "code",
   "execution_count": 211,
   "id": "e2d29525",
   "metadata": {},
   "outputs": [
    {
     "data": {
      "text/plain": [
       "(array([0, 0, 0, 0, 0, 0, 0, 0, 0, 0, 0, 0, 0, 0, 0, 0, 0, 0, 0, 0, 0, 0,\n",
       "        0, 0, 0, 0, 0, 0, 0, 0, 0, 0, 0, 0, 0, 0, 0, 0, 0, 0, 0, 0, 0, 0,\n",
       "        0, 0, 0, 0, 0, 0, 1, 1, 1, 1, 1, 1, 1, 1, 1, 1, 1, 1, 1, 1, 1, 1,\n",
       "        1, 1, 1, 1, 1, 1, 1, 1, 1, 1, 1, 1, 1, 1, 1, 1, 1, 1, 1, 1, 1, 1,\n",
       "        1, 1, 1, 1, 1, 1, 1, 1, 1, 1, 1, 1, 2, 2, 2, 2, 2, 2, 2, 2, 2, 2,\n",
       "        2, 2, 2, 2, 2, 2, 2, 2, 2, 2, 2, 2, 2, 2, 2, 2, 2, 2, 2, 2, 2, 2,\n",
       "        2, 2, 2, 2, 2, 2, 2, 2, 2, 2, 2, 2, 2, 2, 2, 2, 2, 2]),\n",
       " array(['Astronomer\\n', 'Geologist', 'Marine Biologist\\n'], dtype=object))"
      ]
     },
     "execution_count": 211,
     "metadata": {},
     "output_type": "execute_result"
    }
   ],
   "source": [
    "unique_jobs, y_encoded =  np.unique(y, return_inverse=True)\n",
    "y_encoded, unique_jobs"
   ]
  },
  {
   "cell_type": "markdown",
   "id": "1701962b",
   "metadata": {},
   "source": [
    "SCALING DATA"
   ]
  },
  {
   "cell_type": "markdown",
   "id": "9e748c97",
   "metadata": {},
   "source": [
    "[OPT1]: SCALE DATA STANDARDIZATION"
   ]
  },
  {
   "cell_type": "code",
   "execution_count": 212,
   "id": "d5f302ed",
   "metadata": {},
   "outputs": [
    {
     "data": {
      "image/png": "[encoded data removed]",
      "text/plain": [
       "<IPython.core.display.Image object>"
      ]
     },
     "metadata": {},
     "output_type": "display_data"
    }
   ],
   "source": [
    "display(Image(filename='../photos/fomulation/std.png')) "
   ]
  },
  {
   "cell_type": "code",
   "execution_count": 338,
   "id": "0c648e06",
   "metadata": {},
   "outputs": [
    {
     "data": {
      "application/vnd.microsoft.datawrangler.viewer.v0+json": {
       "columns": [
        {
         "name": "index",
         "rawType": "int64",
         "type": "integer"
        },
        {
         "name": "P1",
         "rawType": "int64",
         "type": "integer"
        },
        {
         "name": "P2",
         "rawType": "int64",
         "type": "integer"
        },
        {
         "name": "P3",
         "rawType": "int64",
         "type": "integer"
        }
       ],
       "ref": "5eee8b3b-c825-4f56-a505-468704ddd925",
       "rows": [
        [
         "0",
         "2",
         "1",
         "2"
        ],
        [
         "1",
         "2",
         "1",
         "2"
        ],
        [
         "2",
         "2",
         "1",
         "2"
        ],
        [
         "3",
         "2",
         "1",
         "2"
        ],
        [
         "4",
         "2",
         "1",
         "2"
        ],
        [
         "5",
         "2",
         "1",
         "2"
        ],
        [
         "6",
         "2",
         "1",
         "2"
        ],
        [
         "7",
         "2",
         "1",
         "2"
        ],
        [
         "8",
         "2",
         "1",
         "2"
        ],
        [
         "9",
         "2",
         "1",
         "2"
        ],
        [
         "10",
         "2",
         "1",
         "2"
        ],
        [
         "11",
         "2",
         "1",
         "2"
        ],
        [
         "12",
         "2",
         "1",
         "2"
        ],
        [
         "13",
         "2",
         "1",
         "2"
        ],
        [
         "14",
         "2",
         "1",
         "2"
        ],
        [
         "15",
         "2",
         "1",
         "2"
        ],
        [
         "16",
         "2",
         "1",
         "2"
        ],
        [
         "17",
         "2",
         "1",
         "2"
        ],
        [
         "18",
         "2",
         "1",
         "2"
        ],
        [
         "19",
         "2",
         "1",
         "2"
        ],
        [
         "20",
         "2",
         "1",
         "2"
        ],
        [
         "21",
         "2",
         "1",
         "2"
        ],
        [
         "22",
         "2",
         "1",
         "2"
        ],
        [
         "23",
         "2",
         "1",
         "2"
        ],
        [
         "24",
         "2",
         "1",
         "2"
        ],
        [
         "25",
         "2",
         "1",
         "2"
        ],
        [
         "26",
         "2",
         "1",
         "2"
        ],
        [
         "27",
         "2",
         "1",
         "2"
        ],
        [
         "28",
         "2",
         "1",
         "2"
        ],
        [
         "29",
         "2",
         "1",
         "2"
        ],
        [
         "30",
         "2",
         "1",
         "2"
        ],
        [
         "31",
         "2",
         "1",
         "2"
        ],
        [
         "32",
         "2",
         "1",
         "2"
        ],
        [
         "33",
         "2",
         "1",
         "2"
        ],
        [
         "34",
         "2",
         "1",
         "2"
        ],
        [
         "35",
         "2",
         "1",
         "2"
        ],
        [
         "36",
         "2",
         "1",
         "2"
        ],
        [
         "37",
         "2",
         "1",
         "2"
        ],
        [
         "38",
         "2",
         "1",
         "2"
        ],
        [
         "39",
         "2",
         "1",
         "2"
        ],
        [
         "40",
         "2",
         "1",
         "2"
        ],
        [
         "41",
         "2",
         "1",
         "2"
        ],
        [
         "42",
         "2",
         "1",
         "2"
        ],
        [
         "43",
         "2",
         "1",
         "2"
        ],
        [
         "44",
         "2",
         "1",
         "2"
        ],
        [
         "45",
         "2",
         "1",
         "2"
        ],
        [
         "46",
         "2",
         "1",
         "2"
        ],
        [
         "47",
         "2",
         "1",
         "2"
        ],
        [
         "48",
         "2",
         "1",
         "2"
        ],
        [
         "49",
         "2",
         "1",
         "2"
        ]
       ],
       "shape": {
        "columns": 3,
        "rows": 150
       }
      },
      "text/html": [
       "<div>\n",
       "<style scoped>\n",
       "    .dataframe tbody tr th:only-of-type {\n",
       "        vertical-align: middle;\n",
       "    }\n",
       "\n",
       "    .dataframe tbody tr th {\n",
       "        vertical-align: top;\n",
       "    }\n",
       "\n",
       "    .dataframe thead th {\n",
       "        text-align: right;\n",
       "    }\n",
       "</style>\n",
       "<table border=\"1\" class=\"dataframe\">\n",
       "  <thead>\n",
       "    <tr style=\"text-align: right;\">\n",
       "      <th></th>\n",
       "      <th>P1</th>\n",
       "      <th>P2</th>\n",
       "      <th>P3</th>\n",
       "    </tr>\n",
       "  </thead>\n",
       "  <tbody>\n",
       "    <tr>\n",
       "      <th>0</th>\n",
       "      <td>2</td>\n",
       "      <td>1</td>\n",
       "      <td>2</td>\n",
       "    </tr>\n",
       "    <tr>\n",
       "      <th>1</th>\n",
       "      <td>2</td>\n",
       "      <td>1</td>\n",
       "      <td>2</td>\n",
       "    </tr>\n",
       "    <tr>\n",
       "      <th>2</th>\n",
       "      <td>2</td>\n",
       "      <td>1</td>\n",
       "      <td>2</td>\n",
       "    </tr>\n",
       "    <tr>\n",
       "      <th>3</th>\n",
       "      <td>2</td>\n",
       "      <td>1</td>\n",
       "      <td>2</td>\n",
       "    </tr>\n",
       "    <tr>\n",
       "      <th>4</th>\n",
       "      <td>2</td>\n",
       "      <td>1</td>\n",
       "      <td>2</td>\n",
       "    </tr>\n",
       "    <tr>\n",
       "      <th>...</th>\n",
       "      <td>...</td>\n",
       "      <td>...</td>\n",
       "      <td>...</td>\n",
       "    </tr>\n",
       "    <tr>\n",
       "      <th>145</th>\n",
       "      <td>1</td>\n",
       "      <td>1</td>\n",
       "      <td>2</td>\n",
       "    </tr>\n",
       "    <tr>\n",
       "      <th>146</th>\n",
       "      <td>1</td>\n",
       "      <td>1</td>\n",
       "      <td>2</td>\n",
       "    </tr>\n",
       "    <tr>\n",
       "      <th>147</th>\n",
       "      <td>1</td>\n",
       "      <td>1</td>\n",
       "      <td>2</td>\n",
       "    </tr>\n",
       "    <tr>\n",
       "      <th>148</th>\n",
       "      <td>1</td>\n",
       "      <td>1</td>\n",
       "      <td>2</td>\n",
       "    </tr>\n",
       "    <tr>\n",
       "      <th>149</th>\n",
       "      <td>1</td>\n",
       "      <td>1</td>\n",
       "      <td>2</td>\n",
       "    </tr>\n",
       "  </tbody>\n",
       "</table>\n",
       "<p>150 rows × 3 columns</p>\n",
       "</div>"
      ],
      "text/plain": [
       "     P1  P2  P3\n",
       "0     2   1   2\n",
       "1     2   1   2\n",
       "2     2   1   2\n",
       "3     2   1   2\n",
       "4     2   1   2\n",
       "..   ..  ..  ..\n",
       "145   1   1   2\n",
       "146   1   1   2\n",
       "147   1   1   2\n",
       "148   1   1   2\n",
       "149   1   1   2\n",
       "\n",
       "[150 rows x 3 columns]"
      ]
     },
     "execution_count": 338,
     "metadata": {},
     "output_type": "execute_result"
    }
   ],
   "source": [
    "mapping_dict = {\n",
    "    'POOR': 1,\n",
    "    'AVG': 2,\n",
    "    'BEST': 3\n",
    "}\n",
    "features_to_encode = ['P1', 'P2', 'P3']\n",
    "X[features_to_encode] = X[features_to_encode].replace(mapping_dict)\n",
    "X"
   ]
  },
  {
   "cell_type": "code",
   "execution_count": 347,
   "id": "81402257",
   "metadata": {},
   "outputs": [],
   "source": [
    "def std(X):\n",
    "    std = np.sqrt((1/X.shape[0]) * np.sum((X - np.mean(X, axis=0)) ** 2, axis=0))\n",
    "    return (X - np.mean(X, axis = 0)) / std"
   ]
  },
  {
   "cell_type": "code",
   "execution_count": 348,
   "id": "d7e9b264",
   "metadata": {},
   "outputs": [
    {
     "data": {
      "application/vnd.microsoft.datawrangler.viewer.v0+json": {
       "columns": [
        {
         "name": "index",
         "rawType": "int64",
         "type": "integer"
        },
        {
         "name": "P1",
         "rawType": "float64",
         "type": "float"
        },
        {
         "name": "P2",
         "rawType": "float64",
         "type": "float"
        },
        {
         "name": "P3",
         "rawType": "float64",
         "type": "float"
        }
       ],
       "ref": "6c6b5daf-8b25-4d26-ad40-0ac7e2734f82",
       "rows": [
        [
         "0",
         "0.7071067811865474",
         null,
         "-0.7071067811865478"
        ],
        [
         "1",
         "0.7071067811865474",
         null,
         "-0.7071067811865478"
        ],
        [
         "2",
         "0.7071067811865474",
         null,
         "-0.7071067811865478"
        ],
        [
         "3",
         "0.7071067811865474",
         null,
         "-0.7071067811865478"
        ],
        [
         "4",
         "0.7071067811865474",
         null,
         "-0.7071067811865478"
        ],
        [
         "5",
         "0.7071067811865474",
         null,
         "-0.7071067811865478"
        ],
        [
         "6",
         "0.7071067811865474",
         null,
         "-0.7071067811865478"
        ],
        [
         "7",
         "0.7071067811865474",
         null,
         "-0.7071067811865478"
        ],
        [
         "8",
         "0.7071067811865474",
         null,
         "-0.7071067811865478"
        ],
        [
         "9",
         "0.7071067811865474",
         null,
         "-0.7071067811865478"
        ],
        [
         "10",
         "0.7071067811865474",
         null,
         "-0.7071067811865478"
        ],
        [
         "11",
         "0.7071067811865474",
         null,
         "-0.7071067811865478"
        ],
        [
         "12",
         "0.7071067811865474",
         null,
         "-0.7071067811865478"
        ],
        [
         "13",
         "0.7071067811865474",
         null,
         "-0.7071067811865478"
        ],
        [
         "14",
         "0.7071067811865474",
         null,
         "-0.7071067811865478"
        ],
        [
         "15",
         "0.7071067811865474",
         null,
         "-0.7071067811865478"
        ],
        [
         "16",
         "0.7071067811865474",
         null,
         "-0.7071067811865478"
        ],
        [
         "17",
         "0.7071067811865474",
         null,
         "-0.7071067811865478"
        ],
        [
         "18",
         "0.7071067811865474",
         null,
         "-0.7071067811865478"
        ],
        [
         "19",
         "0.7071067811865474",
         null,
         "-0.7071067811865478"
        ],
        [
         "20",
         "0.7071067811865474",
         null,
         "-0.7071067811865478"
        ],
        [
         "21",
         "0.7071067811865474",
         null,
         "-0.7071067811865478"
        ],
        [
         "22",
         "0.7071067811865474",
         null,
         "-0.7071067811865478"
        ],
        [
         "23",
         "0.7071067811865474",
         null,
         "-0.7071067811865478"
        ],
        [
         "24",
         "0.7071067811865474",
         null,
         "-0.7071067811865478"
        ],
        [
         "25",
         "0.7071067811865474",
         null,
         "-0.7071067811865478"
        ],
        [
         "26",
         "0.7071067811865474",
         null,
         "-0.7071067811865478"
        ],
        [
         "27",
         "0.7071067811865474",
         null,
         "-0.7071067811865478"
        ],
        [
         "28",
         "0.7071067811865474",
         null,
         "-0.7071067811865478"
        ],
        [
         "29",
         "0.7071067811865474",
         null,
         "-0.7071067811865478"
        ],
        [
         "30",
         "0.7071067811865474",
         null,
         "-0.7071067811865478"
        ],
        [
         "31",
         "0.7071067811865474",
         null,
         "-0.7071067811865478"
        ],
        [
         "32",
         "0.7071067811865474",
         null,
         "-0.7071067811865478"
        ],
        [
         "33",
         "0.7071067811865474",
         null,
         "-0.7071067811865478"
        ],
        [
         "34",
         "0.7071067811865474",
         null,
         "-0.7071067811865478"
        ],
        [
         "35",
         "0.7071067811865474",
         null,
         "-0.7071067811865478"
        ],
        [
         "36",
         "0.7071067811865474",
         null,
         "-0.7071067811865478"
        ],
        [
         "37",
         "0.7071067811865474",
         null,
         "-0.7071067811865478"
        ],
        [
         "38",
         "0.7071067811865474",
         null,
         "-0.7071067811865478"
        ],
        [
         "39",
         "0.7071067811865474",
         null,
         "-0.7071067811865478"
        ],
        [
         "40",
         "0.7071067811865474",
         null,
         "-0.7071067811865478"
        ],
        [
         "41",
         "0.7071067811865474",
         null,
         "-0.7071067811865478"
        ],
        [
         "42",
         "0.7071067811865474",
         null,
         "-0.7071067811865478"
        ],
        [
         "43",
         "0.7071067811865474",
         null,
         "-0.7071067811865478"
        ],
        [
         "44",
         "0.7071067811865474",
         null,
         "-0.7071067811865478"
        ],
        [
         "45",
         "0.7071067811865474",
         null,
         "-0.7071067811865478"
        ],
        [
         "46",
         "0.7071067811865474",
         null,
         "-0.7071067811865478"
        ],
        [
         "47",
         "0.7071067811865474",
         null,
         "-0.7071067811865478"
        ],
        [
         "48",
         "0.7071067811865474",
         null,
         "-0.7071067811865478"
        ],
        [
         "49",
         "0.7071067811865474",
         null,
         "-0.7071067811865478"
        ]
       ],
       "shape": {
        "columns": 3,
        "rows": 150
       }
      },
      "text/html": [
       "<div>\n",
       "<style scoped>\n",
       "    .dataframe tbody tr th:only-of-type {\n",
       "        vertical-align: middle;\n",
       "    }\n",
       "\n",
       "    .dataframe tbody tr th {\n",
       "        vertical-align: top;\n",
       "    }\n",
       "\n",
       "    .dataframe thead th {\n",
       "        text-align: right;\n",
       "    }\n",
       "</style>\n",
       "<table border=\"1\" class=\"dataframe\">\n",
       "  <thead>\n",
       "    <tr style=\"text-align: right;\">\n",
       "      <th></th>\n",
       "      <th>P1</th>\n",
       "      <th>P2</th>\n",
       "      <th>P3</th>\n",
       "    </tr>\n",
       "  </thead>\n",
       "  <tbody>\n",
       "    <tr>\n",
       "      <th>0</th>\n",
       "      <td>0.707107</td>\n",
       "      <td>NaN</td>\n",
       "      <td>-0.707107</td>\n",
       "    </tr>\n",
       "    <tr>\n",
       "      <th>1</th>\n",
       "      <td>0.707107</td>\n",
       "      <td>NaN</td>\n",
       "      <td>-0.707107</td>\n",
       "    </tr>\n",
       "    <tr>\n",
       "      <th>2</th>\n",
       "      <td>0.707107</td>\n",
       "      <td>NaN</td>\n",
       "      <td>-0.707107</td>\n",
       "    </tr>\n",
       "    <tr>\n",
       "      <th>3</th>\n",
       "      <td>0.707107</td>\n",
       "      <td>NaN</td>\n",
       "      <td>-0.707107</td>\n",
       "    </tr>\n",
       "    <tr>\n",
       "      <th>4</th>\n",
       "      <td>0.707107</td>\n",
       "      <td>NaN</td>\n",
       "      <td>-0.707107</td>\n",
       "    </tr>\n",
       "    <tr>\n",
       "      <th>...</th>\n",
       "      <td>...</td>\n",
       "      <td>...</td>\n",
       "      <td>...</td>\n",
       "    </tr>\n",
       "    <tr>\n",
       "      <th>145</th>\n",
       "      <td>-1.414214</td>\n",
       "      <td>NaN</td>\n",
       "      <td>-0.707107</td>\n",
       "    </tr>\n",
       "    <tr>\n",
       "      <th>146</th>\n",
       "      <td>-1.414214</td>\n",
       "      <td>NaN</td>\n",
       "      <td>-0.707107</td>\n",
       "    </tr>\n",
       "    <tr>\n",
       "      <th>147</th>\n",
       "      <td>-1.414214</td>\n",
       "      <td>NaN</td>\n",
       "      <td>-0.707107</td>\n",
       "    </tr>\n",
       "    <tr>\n",
       "      <th>148</th>\n",
       "      <td>-1.414214</td>\n",
       "      <td>NaN</td>\n",
       "      <td>-0.707107</td>\n",
       "    </tr>\n",
       "    <tr>\n",
       "      <th>149</th>\n",
       "      <td>-1.414214</td>\n",
       "      <td>NaN</td>\n",
       "      <td>-0.707107</td>\n",
       "    </tr>\n",
       "  </tbody>\n",
       "</table>\n",
       "<p>150 rows × 3 columns</p>\n",
       "</div>"
      ],
      "text/plain": [
       "           P1  P2        P3\n",
       "0    0.707107 NaN -0.707107\n",
       "1    0.707107 NaN -0.707107\n",
       "2    0.707107 NaN -0.707107\n",
       "3    0.707107 NaN -0.707107\n",
       "4    0.707107 NaN -0.707107\n",
       "..        ...  ..       ...\n",
       "145 -1.414214 NaN -0.707107\n",
       "146 -1.414214 NaN -0.707107\n",
       "147 -1.414214 NaN -0.707107\n",
       "148 -1.414214 NaN -0.707107\n",
       "149 -1.414214 NaN -0.707107\n",
       "\n",
       "[150 rows x 3 columns]"
      ]
     },
     "execution_count": 348,
     "metadata": {},
     "output_type": "execute_result"
    }
   ],
   "source": [
    "X_scaled_std = std(X)\n",
    "X_scaled_std"
   ]
  },
  {
   "cell_type": "markdown",
   "id": "e7206e60",
   "metadata": {},
   "source": [
    "[OPT2]: SCALE DATA WITH MIN MAX BASED ON BELOW COMPARING"
   ]
  },
  {
   "cell_type": "code",
   "execution_count": 213,
   "id": "d3846473",
   "metadata": {},
   "outputs": [
    {
     "data": {
      "image/png": "[encoded data removed]",
      "text/plain": [
       "<IPython.core.display.Image object>"
      ]
     },
     "metadata": {},
     "output_type": "display_data"
    }
   ],
   "source": [
    "display(Image(filename='../photos/fomulation/compare_std_min_max_scaling.png')) "
   ]
  },
  {
   "cell_type": "code",
   "execution_count": 278,
   "id": "55d719c7",
   "metadata": {},
   "outputs": [
    {
     "data": {
      "application/vnd.microsoft.datawrangler.viewer.v0+json": {
       "columns": [
        {
         "name": "index",
         "rawType": "int64",
         "type": "integer"
        },
        {
         "name": "P1",
         "rawType": "int64",
         "type": "integer"
        },
        {
         "name": "P2",
         "rawType": "int64",
         "type": "integer"
        },
        {
         "name": "P3",
         "rawType": "int64",
         "type": "integer"
        }
       ],
       "ref": "6e30af57-77cb-4b33-bc2a-ba1d940f4b5a",
       "rows": [
        [
         "0",
         "2",
         "1",
         "2"
        ],
        [
         "1",
         "2",
         "1",
         "2"
        ],
        [
         "2",
         "2",
         "1",
         "2"
        ],
        [
         "3",
         "2",
         "1",
         "2"
        ],
        [
         "4",
         "2",
         "1",
         "2"
        ],
        [
         "5",
         "2",
         "1",
         "2"
        ],
        [
         "6",
         "2",
         "1",
         "2"
        ],
        [
         "7",
         "2",
         "1",
         "2"
        ],
        [
         "8",
         "2",
         "1",
         "2"
        ],
        [
         "9",
         "2",
         "1",
         "2"
        ],
        [
         "10",
         "2",
         "1",
         "2"
        ],
        [
         "11",
         "2",
         "1",
         "2"
        ],
        [
         "12",
         "2",
         "1",
         "2"
        ],
        [
         "13",
         "2",
         "1",
         "2"
        ],
        [
         "14",
         "2",
         "1",
         "2"
        ],
        [
         "15",
         "2",
         "1",
         "2"
        ],
        [
         "16",
         "2",
         "1",
         "2"
        ],
        [
         "17",
         "2",
         "1",
         "2"
        ],
        [
         "18",
         "2",
         "1",
         "2"
        ],
        [
         "19",
         "2",
         "1",
         "2"
        ],
        [
         "20",
         "2",
         "1",
         "2"
        ],
        [
         "21",
         "2",
         "1",
         "2"
        ],
        [
         "22",
         "2",
         "1",
         "2"
        ],
        [
         "23",
         "2",
         "1",
         "2"
        ],
        [
         "24",
         "2",
         "1",
         "2"
        ],
        [
         "25",
         "2",
         "1",
         "2"
        ],
        [
         "26",
         "2",
         "1",
         "2"
        ],
        [
         "27",
         "2",
         "1",
         "2"
        ],
        [
         "28",
         "2",
         "1",
         "2"
        ],
        [
         "29",
         "2",
         "1",
         "2"
        ],
        [
         "30",
         "2",
         "1",
         "2"
        ],
        [
         "31",
         "2",
         "1",
         "2"
        ],
        [
         "32",
         "2",
         "1",
         "2"
        ],
        [
         "33",
         "2",
         "1",
         "2"
        ],
        [
         "34",
         "2",
         "1",
         "2"
        ],
        [
         "35",
         "2",
         "1",
         "2"
        ],
        [
         "36",
         "2",
         "1",
         "2"
        ],
        [
         "37",
         "2",
         "1",
         "2"
        ],
        [
         "38",
         "2",
         "1",
         "2"
        ],
        [
         "39",
         "2",
         "1",
         "2"
        ],
        [
         "40",
         "2",
         "1",
         "2"
        ],
        [
         "41",
         "2",
         "1",
         "2"
        ],
        [
         "42",
         "2",
         "1",
         "2"
        ],
        [
         "43",
         "2",
         "1",
         "2"
        ],
        [
         "44",
         "2",
         "1",
         "2"
        ],
        [
         "45",
         "2",
         "1",
         "2"
        ],
        [
         "46",
         "2",
         "1",
         "2"
        ],
        [
         "47",
         "2",
         "1",
         "2"
        ],
        [
         "48",
         "2",
         "1",
         "2"
        ],
        [
         "49",
         "2",
         "1",
         "2"
        ]
       ],
       "shape": {
        "columns": 3,
        "rows": 150
       }
      },
      "text/html": [
       "<div>\n",
       "<style scoped>\n",
       "    .dataframe tbody tr th:only-of-type {\n",
       "        vertical-align: middle;\n",
       "    }\n",
       "\n",
       "    .dataframe tbody tr th {\n",
       "        vertical-align: top;\n",
       "    }\n",
       "\n",
       "    .dataframe thead th {\n",
       "        text-align: right;\n",
       "    }\n",
       "</style>\n",
       "<table border=\"1\" class=\"dataframe\">\n",
       "  <thead>\n",
       "    <tr style=\"text-align: right;\">\n",
       "      <th></th>\n",
       "      <th>P1</th>\n",
       "      <th>P2</th>\n",
       "      <th>P3</th>\n",
       "    </tr>\n",
       "  </thead>\n",
       "  <tbody>\n",
       "    <tr>\n",
       "      <th>0</th>\n",
       "      <td>2</td>\n",
       "      <td>1</td>\n",
       "      <td>2</td>\n",
       "    </tr>\n",
       "    <tr>\n",
       "      <th>1</th>\n",
       "      <td>2</td>\n",
       "      <td>1</td>\n",
       "      <td>2</td>\n",
       "    </tr>\n",
       "    <tr>\n",
       "      <th>2</th>\n",
       "      <td>2</td>\n",
       "      <td>1</td>\n",
       "      <td>2</td>\n",
       "    </tr>\n",
       "    <tr>\n",
       "      <th>3</th>\n",
       "      <td>2</td>\n",
       "      <td>1</td>\n",
       "      <td>2</td>\n",
       "    </tr>\n",
       "    <tr>\n",
       "      <th>4</th>\n",
       "      <td>2</td>\n",
       "      <td>1</td>\n",
       "      <td>2</td>\n",
       "    </tr>\n",
       "    <tr>\n",
       "      <th>...</th>\n",
       "      <td>...</td>\n",
       "      <td>...</td>\n",
       "      <td>...</td>\n",
       "    </tr>\n",
       "    <tr>\n",
       "      <th>145</th>\n",
       "      <td>1</td>\n",
       "      <td>1</td>\n",
       "      <td>2</td>\n",
       "    </tr>\n",
       "    <tr>\n",
       "      <th>146</th>\n",
       "      <td>1</td>\n",
       "      <td>1</td>\n",
       "      <td>2</td>\n",
       "    </tr>\n",
       "    <tr>\n",
       "      <th>147</th>\n",
       "      <td>1</td>\n",
       "      <td>1</td>\n",
       "      <td>2</td>\n",
       "    </tr>\n",
       "    <tr>\n",
       "      <th>148</th>\n",
       "      <td>1</td>\n",
       "      <td>1</td>\n",
       "      <td>2</td>\n",
       "    </tr>\n",
       "    <tr>\n",
       "      <th>149</th>\n",
       "      <td>1</td>\n",
       "      <td>1</td>\n",
       "      <td>2</td>\n",
       "    </tr>\n",
       "  </tbody>\n",
       "</table>\n",
       "<p>150 rows × 3 columns</p>\n",
       "</div>"
      ],
      "text/plain": [
       "     P1  P2  P3\n",
       "0     2   1   2\n",
       "1     2   1   2\n",
       "2     2   1   2\n",
       "3     2   1   2\n",
       "4     2   1   2\n",
       "..   ..  ..  ..\n",
       "145   1   1   2\n",
       "146   1   1   2\n",
       "147   1   1   2\n",
       "148   1   1   2\n",
       "149   1   1   2\n",
       "\n",
       "[150 rows x 3 columns]"
      ]
     },
     "execution_count": 278,
     "metadata": {},
     "output_type": "execute_result"
    }
   ],
   "source": [
    "mapping_dict = {\n",
    "    'POOR': 1,\n",
    "    'AVG': 2,\n",
    "    'BEST': 3\n",
    "}\n",
    "features_to_encode = ['P1', 'P2', 'P3']\n",
    "X[features_to_encode] = X[features_to_encode].replace(mapping_dict)\n",
    "X"
   ]
  },
  {
   "cell_type": "code",
   "execution_count": 279,
   "id": "3e585241",
   "metadata": {},
   "outputs": [],
   "source": [
    "def min_max_scale(X):\n",
    "    \"\"\"\n",
    "    对二维数组 X 进行 Min-Max 缩放，每一列单独缩放到 [0, 1] 区间。\n",
    "    参数:\n",
    "        X: List[List[float]] 或 numpy.ndarray, n行m列\n",
    "    返回:\n",
    "        X_scaled: 同样大小的二维列表，每列值缩放到 [0, 1]\n",
    "    \"\"\" \n",
    "    n_rows = len(X)\n",
    "    n_cols = len(X[0])\n",
    "    X_scaled = [[0.0 for _ in range(n_cols)] for _ in range(n_rows)]\n",
    "\n",
    "    for col in range(n_cols):\n",
    "\n",
    "        col_vals = [X[row][col] for row in range(n_rows)]\n",
    "        col_min = min(col_vals)\n",
    "        col_max = max(col_vals)\n",
    "        range_val = col_max - col_min\n",
    "\n",
    "        for row in range(n_rows):\n",
    "            if range_val == 0:\n",
    "                X_scaled[row][col] = 0.0   # 避免除以0\n",
    "            else:\n",
    "                X_scaled[row][col] = (X[row][col] - col_min) / range_val\n",
    "\n",
    "    return np.array(X_scaled)\n",
    "\n"
   ]
  },
  {
   "cell_type": "code",
   "execution_count": 280,
   "id": "21107ddf",
   "metadata": {},
   "outputs": [
    {
     "data": {
      "text/plain": [
       "array([[1., 0., 0.],\n",
       "       [1., 0., 0.],\n",
       "       [1., 0., 0.],\n",
       "       [1., 0., 0.],\n",
       "       [1., 0., 0.],\n",
       "       [1., 0., 0.],\n",
       "       [1., 0., 0.],\n",
       "       [1., 0., 0.],\n",
       "       [1., 0., 0.],\n",
       "       [1., 0., 0.],\n",
       "       [1., 0., 0.],\n",
       "       [1., 0., 0.],\n",
       "       [1., 0., 0.],\n",
       "       [1., 0., 0.],\n",
       "       [1., 0., 0.],\n",
       "       [1., 0., 0.],\n",
       "       [1., 0., 0.],\n",
       "       [1., 0., 0.],\n",
       "       [1., 0., 0.],\n",
       "       [1., 0., 0.],\n",
       "       [1., 0., 0.],\n",
       "       [1., 0., 0.],\n",
       "       [1., 0., 0.],\n",
       "       [1., 0., 0.],\n",
       "       [1., 0., 0.],\n",
       "       [1., 0., 0.],\n",
       "       [1., 0., 0.],\n",
       "       [1., 0., 0.],\n",
       "       [1., 0., 0.],\n",
       "       [1., 0., 0.],\n",
       "       [1., 0., 0.],\n",
       "       [1., 0., 0.],\n",
       "       [1., 0., 0.],\n",
       "       [1., 0., 0.],\n",
       "       [1., 0., 0.],\n",
       "       [1., 0., 0.],\n",
       "       [1., 0., 0.],\n",
       "       [1., 0., 0.],\n",
       "       [1., 0., 0.],\n",
       "       [1., 0., 0.],\n",
       "       [1., 0., 0.],\n",
       "       [1., 0., 0.],\n",
       "       [1., 0., 0.],\n",
       "       [1., 0., 0.],\n",
       "       [1., 0., 0.],\n",
       "       [1., 0., 0.],\n",
       "       [1., 0., 0.],\n",
       "       [1., 0., 0.],\n",
       "       [1., 0., 0.],\n",
       "       [1., 0., 0.],\n",
       "       [1., 0., 1.],\n",
       "       [1., 0., 1.],\n",
       "       [1., 0., 1.],\n",
       "       [1., 0., 1.],\n",
       "       [1., 0., 1.],\n",
       "       [1., 0., 1.],\n",
       "       [1., 0., 1.],\n",
       "       [1., 0., 1.],\n",
       "       [1., 0., 1.],\n",
       "       [1., 0., 1.],\n",
       "       [1., 0., 1.],\n",
       "       [1., 0., 1.],\n",
       "       [1., 0., 1.],\n",
       "       [1., 0., 1.],\n",
       "       [1., 0., 1.],\n",
       "       [1., 0., 1.],\n",
       "       [1., 0., 1.],\n",
       "       [1., 0., 1.],\n",
       "       [1., 0., 1.],\n",
       "       [1., 0., 1.],\n",
       "       [1., 0., 1.],\n",
       "       [1., 0., 1.],\n",
       "       [1., 0., 1.],\n",
       "       [1., 0., 1.],\n",
       "       [1., 0., 1.],\n",
       "       [1., 0., 1.],\n",
       "       [1., 0., 1.],\n",
       "       [1., 0., 1.],\n",
       "       [1., 0., 1.],\n",
       "       [1., 0., 1.],\n",
       "       [1., 0., 1.],\n",
       "       [1., 0., 1.],\n",
       "       [1., 0., 1.],\n",
       "       [1., 0., 1.],\n",
       "       [1., 0., 1.],\n",
       "       [1., 0., 1.],\n",
       "       [1., 0., 1.],\n",
       "       [1., 0., 1.],\n",
       "       [1., 0., 1.],\n",
       "       [1., 0., 1.],\n",
       "       [1., 0., 1.],\n",
       "       [1., 0., 1.],\n",
       "       [1., 0., 1.],\n",
       "       [1., 0., 1.],\n",
       "       [1., 0., 1.],\n",
       "       [1., 0., 1.],\n",
       "       [1., 0., 1.],\n",
       "       [1., 0., 1.],\n",
       "       [1., 0., 1.],\n",
       "       [1., 0., 1.],\n",
       "       [0., 0., 0.],\n",
       "       [0., 0., 0.],\n",
       "       [0., 0., 0.],\n",
       "       [0., 0., 0.],\n",
       "       [0., 0., 0.],\n",
       "       [0., 0., 0.],\n",
       "       [0., 0., 0.],\n",
       "       [0., 0., 0.],\n",
       "       [0., 0., 0.],\n",
       "       [0., 0., 0.],\n",
       "       [0., 0., 0.],\n",
       "       [0., 0., 0.],\n",
       "       [0., 0., 0.],\n",
       "       [0., 0., 0.],\n",
       "       [0., 0., 0.],\n",
       "       [0., 0., 0.],\n",
       "       [0., 0., 0.],\n",
       "       [0., 0., 0.],\n",
       "       [0., 0., 0.],\n",
       "       [0., 0., 0.],\n",
       "       [0., 0., 0.],\n",
       "       [0., 0., 0.],\n",
       "       [0., 0., 0.],\n",
       "       [0., 0., 0.],\n",
       "       [0., 0., 0.],\n",
       "       [0., 0., 0.],\n",
       "       [0., 0., 0.],\n",
       "       [0., 0., 0.],\n",
       "       [0., 0., 0.],\n",
       "       [0., 0., 0.],\n",
       "       [0., 0., 0.],\n",
       "       [0., 0., 0.],\n",
       "       [0., 0., 0.],\n",
       "       [0., 0., 0.],\n",
       "       [0., 0., 0.],\n",
       "       [0., 0., 0.],\n",
       "       [0., 0., 0.],\n",
       "       [0., 0., 0.],\n",
       "       [0., 0., 0.],\n",
       "       [0., 0., 0.],\n",
       "       [0., 0., 0.],\n",
       "       [0., 0., 0.],\n",
       "       [0., 0., 0.],\n",
       "       [0., 0., 0.],\n",
       "       [0., 0., 0.],\n",
       "       [0., 0., 0.],\n",
       "       [0., 0., 0.],\n",
       "       [0., 0., 0.],\n",
       "       [0., 0., 0.],\n",
       "       [0., 0., 0.]])"
      ]
     },
     "execution_count": 280,
     "metadata": {},
     "output_type": "execute_result"
    }
   ],
   "source": [
    "X_scaled = min_max_scale(X.values)\n",
    "X_scaled"
   ]
  },
  {
   "cell_type": "markdown",
   "id": "a6802767",
   "metadata": {},
   "source": [
    "VISUALIZATION DATA"
   ]
  },
  {
   "cell_type": "code",
   "execution_count": null,
   "id": "4394ef36",
   "metadata": {},
   "outputs": [],
   "source": []
  },
  {
   "cell_type": "markdown",
   "id": "65801ffb",
   "metadata": {},
   "source": [
    "SOFTMAX REGRESSION FUNCTION"
   ]
  },
  {
   "cell_type": "code",
   "execution_count": 281,
   "id": "1fda0027",
   "metadata": {},
   "outputs": [],
   "source": [
    "def softmax(Z):\n",
    "    \"\"\"\n",
    "    计算输入数组每一列的 softmax。\n",
    "\n",
    "    softmax 函数将原始得分(logits)转换为概率，\n",
    "    通过对每一列进行指数运算并归一化实现。\n",
    "\n",
    "    参数\n",
    "    ----------\n",
    "    Z : ndarray\n",
    "        任意形状的 NumPy 数组。通常是一个二维数组，其中每一列\n",
    "        表示一组不同类别的得分。\n",
    "\n",
    "    返回值\n",
    "    -------\n",
    "    ndarray\n",
    "        与 `Z` 形状相同的数组，每一列包含经过 softmax 变换后的值\n",
    "        （即概率，和为 1)。\n",
    "\n",
    "    备注\n",
    "    -----\n",
    "    - 此函数在 `axis=0` 方向上应用 softmax, 因此假设每一列是一个独立的得分集。\n",
    "    - 如果需要在每一行上应用 softmax, 应在 `np.sum()` 中设置 `axis=1`。\n",
    "\n",
    "    示例\n",
    "    --------\n",
    "    >>> Z = np.array([[1, 2, 3],\n",
    "                      [1, 2, 3]])\n",
    "    ...\n",
    "    >>> softmax(Z)\n",
    "    array([[0.5, 0.5, 0.5],\n",
    "           [0.5, 0.5, 0.5]])\n",
    "    \"\"\"\n",
    "\n",
    "    exp_Z = np.exp(Z - np.max(Z, axis=0, keepdims=True))\n",
    "    return exp_Z / np.sum(exp_Z, axis=0, keepdims=True)"
   ]
  },
  {
   "cell_type": "code",
   "execution_count": 282,
   "id": "595fa77a",
   "metadata": {},
   "outputs": [],
   "source": [
    "from scipy import sparse\n",
    "\n",
    "def convert_labels(y, C):\n",
    "    \"\"\"\n",
    "    将标签向量转换为独热编码(One-Hot Encoding)格式。\n",
    "\n",
    "    参数\n",
    "    ----------\n",
    "    y : ndarray\n",
    "        一维整数数组，表示类别标签。每个元素的取值应在 [0, C-1] 之间。\n",
    "        例如: y = [0, 2, 1, 2]\n",
    "\n",
    "    C : int\n",
    "        总类别数(classes 的数量）。\n",
    "\n",
    "    返回值\n",
    "    -------\n",
    "    Y : ndarray\n",
    "        二维 NumPy 数组，形状为 (C, len(y))，每一列是 y 中对应标签的独热编码形式。\n",
    "        即第 i 列是第 i 个标签的 one-hot 表示。\n",
    "\n",
    "    示例\n",
    "    --------\n",
    "    >>> y = np.array([0, 2, 1])\n",
    "    >>> C = 3\n",
    "    >>> convert_labels(y, C)\n",
    "    array([[1., 0., 0.],\n",
    "           [0., 0., 1.],\n",
    "           [0., 1., 0.]])\n",
    "\n",
    "    说明\n",
    "    --------\n",
    "    - 使用 SciPy 的 `sparse.coo_matrix` 创建稀疏矩阵，再转换为普通 NumPy 数组。\n",
    "    - 每个标签对应矩阵中的一列, one-hot 编码中对应标签的位置为 1, 其余为 0。\n",
    "    \"\"\"\n",
    "    Y = sparse.coo_matrix((np.ones_like(y), (y, np.arange(len(y)))), shape=(C, len(y))).toarray()\n",
    "    return Y"
   ]
  },
  {
   "cell_type": "code",
   "execution_count": 283,
   "id": "1ad7df82",
   "metadata": {},
   "outputs": [],
   "source": [
    "def cost(W, X, Y):\n",
    "    \"\"\"\n",
    "    计算交叉熵损失(Cross-Entropy Loss)。\n",
    "\n",
    "    该函数用于计算多类分类中的交叉熵损失，假设使用 softmax 激活函数。\n",
    "    它基于模型预测值 A 和真实标签 Y 之间的差异进行计算。\n",
    "\n",
    "    参数\n",
    "    ----------\n",
    "    W : ndarray\n",
    "        权重矩阵，形状为 (num_features, num_classes)。\n",
    "\n",
    "    Y : ndarray\n",
    "        独热编码的真实标签矩阵，形状为 (num_classes, num_samples)。\n",
    "\n",
    "    X : ndarray\n",
    "        输入特征矩阵，形状为 (num_features, num_samples)。\n",
    "\n",
    "    返回值\n",
    "    -------\n",
    "    ndarray\n",
    "        损失矩阵，形状与 Y 相同，表示每个样本的逐元素交叉熵损失。\n",
    "        注意：该函数**未取平均或求和**，返回的是每个元素的损失值。\n",
    "\n",
    "    示例\n",
    "    --------\n",
    "    >>> W = np.random.randn(4, 3)\n",
    "    >>> X = np.random.randn(4, 5)\n",
    "    >>> Y = np.eye(3)[:, [0, 1, 2, 1, 0]]\n",
    "    >>> cost(W, Y, X)\n",
    "    array([...])  # 每个元素为 -y * log(a)\n",
    "\n",
    "    备注\n",
    "    --------\n",
    "    - softmax 函数被应用于 W.T @ X 得到预测概率 A。\n",
    "    - 该函数返回的是未归约（未求平均或求和）的交叉熵损失。\n",
    "    - 若需计算总体损失，应加上 `.sum()` 或 `.mean()`。\n",
    "    \"\"\"\n",
    "    A = softmax(np.dot(W.T, X))\n",
    "    return -(Y * np.log(A))"
   ]
  },
  {
   "cell_type": "markdown",
   "id": "8aa3aab0",
   "metadata": {},
   "source": [
    "GRADIENT DESCENT"
   ]
  },
  {
   "cell_type": "code",
   "execution_count": 284,
   "id": "b40daccb",
   "metadata": {},
   "outputs": [],
   "source": [
    "def grad(A, X, Y):\n",
    "    \"\"\"\n",
    "    计算 softmax 输出与真实标签之间的误差梯度，用于反向传播。\n",
    "\n",
    "    此函数用于计算预测值 A 与真实标签 Y 之间的差值，\n",
    "    并基于该误差计算梯度，以用于权重更新。\n",
    "\n",
    "    参数\n",
    "    ----------\n",
    "    A : ndarray\n",
    "        模型的预测概率矩阵 (softmax 输出)，形状为 (num_classes, num_samples)。\n",
    "\n",
    "    Y : ndarray\n",
    "        独热编码的真实标签矩阵，形状同 A, 为 (num_classes, num_samples)。\n",
    "\n",
    "    返回值\n",
    "    -------\n",
    "    ndarray\n",
    "        梯度矩阵，形状为 (num_features, num_classes),\n",
    "        是输入特征 X 与误差项的乘积（注意：此函数依赖外部定义的 X)。\n",
    "\n",
    "    示例\n",
    "    --------\n",
    "    >>> A = softmax(np.dot(W.T, X))\n",
    "    >>> Y = one_hot_labels\n",
    "    >>> grad(A, Y)\n",
    "    array([...])  # 梯度值，用于更新权重\n",
    "\n",
    "    注意事项\n",
    "    --------\n",
    "    - 此函数中的变量 X **未在函数内定义**，需要在函数外部预先定义。\n",
    "    - E = A - Y 表示 softmax 输出与真实标签之间的误差。\n",
    "    - 最终返回的是梯度: X @ E.T (注意是 X 与误差的转置相乘）。\n",
    "\n",
    "    建议\n",
    "    --------\n",
    "    - 为了函数更完整与自包含，建议将 X 作为参数传入。\n",
    "      如：`def grad(A, Y, X)`，避免依赖外部变量。\n",
    "    \"\"\"\n",
    "    E = A - Y\n",
    "    return np.dot(X, E.T)"
   ]
  },
  {
   "cell_type": "markdown",
   "id": "070037cc",
   "metadata": {},
   "source": [
    "SOFTMAX REFRESSION FUNCTION"
   ]
  },
  {
   "cell_type": "code",
   "execution_count": 285,
   "id": "216b1b9b",
   "metadata": {},
   "outputs": [],
   "source": [
    "def softmax_regression(W_init, X, Y, eta, tol=1e-4, max_count=10000):\n",
    "    \n",
    "    \"\"\"\n",
    "    使用随机梯度下降法 (SGD) 训练 Softmax 回归模型。\n",
    "\n",
    "    该函数以随机顺序对每个样本进行迭代训练，根据 softmax + 交叉熵损失函数\n",
    "    来更新权重，直到满足收敛条件或达到最大迭代次数。\n",
    "\n",
    "    参数\n",
    "    ----------\n",
    "    W_init : ndarray\n",
    "        初始权重矩阵，形状为 (num_features, num_classes)。\n",
    "\n",
    "    X : ndarray\n",
    "        输入特征矩阵，形状为 (num_samples, num_features)。\n",
    "\n",
    "    Y : ndarray\n",
    "        真实标签的独热编码矩阵，形状为 (num_classes, num_samples)。\n",
    "\n",
    "    eta : float\n",
    "        学习率，用于控制梯度更新的步长。\n",
    "\n",
    "    tol : float, 可选，默认值为 1e-4\n",
    "        权重更新的收敛阈值。如果连续两次相隔 30 步的权重差小于此值，则认为已收敛。\n",
    "\n",
    "    max_count : int, 可选，默认值为 1000\n",
    "        最大迭代次数（步数）。达到此值时即使未收敛也会停止训练。\n",
    "\n",
    "    返回值\n",
    "    -------\n",
    "    W : list of ndarray\n",
    "        权重历史列表，每一项为一个权重矩阵，记录了训练过程中的权重更新轨迹。\n",
    "\n",
    "    说明\n",
    "    -------\n",
    "    - 使用随机梯度下降 (SGD) 按样本逐个更新权重。\n",
    "    - 每隔 `check_w_after` 步检查一次是否收敛（使用 L2 范数）。\n",
    "    - `grad(ai, xi, yi)` 需为一个能返回梯度的函数，接受 softmax 输出、样本特征 xi 和标签 yi。\n",
    "    - 输入的 X 是按样本为行，特征为列的格式，因此 `X[i, :]` 是第 i 个样本。\n",
    "\n",
    "    示例\n",
    "    --------\n",
    "    >>> W_init = np.zeros((4, 3))\n",
    "    >>> X = np.random.randn(100, 4)\n",
    "    >>> Y = one_hot_encode(labels, num_classes=3)  # 形状为 (3, 100)\n",
    "    >>> W_list = softmax_regression(W_init, X, Y, eta=0.01)\n",
    "    >>> final_W = W_list[-1]\n",
    "    \"\"\"\n",
    "\n",
    "    W = [W_init]\n",
    "    N = X.shape[0]\n",
    "    C = W_init.shape[1]\n",
    "\n",
    "    loss_history = [0]\n",
    "\n",
    "    batch_size = 20\n",
    "\n",
    "    # b = np.zeros((1, C)) # Vector bias, shape (1, C)\n",
    "\n",
    "    count = 0\n",
    "    check_w_after = 30\n",
    "\n",
    "    while count < max_count:\n",
    "\n",
    "        ids_mixed = np.random.permutation(N)\n",
    "\n",
    "        for i in range(0, N, batch_size):\n",
    "\n",
    "            batch_ids = ids_mixed[i: i + batch_size]\n",
    "            \n",
    "            x_batch = X[batch_ids, :]\n",
    "            y_batch = Y[:, batch_ids]\n",
    "            z_batch = np.dot(W[-1].T, x_batch.T)\n",
    "            a_batch = softmax(z_batch) \n",
    "\n",
    "            grad_dW = grad(a_batch, x_batch.T, y_batch) / batch_size\n",
    "            # grad_db = np.sum(a_batch - y_batch, axis=0, keepdims=True) / batch_size \n",
    "\n",
    "            W_new = W[-1] - eta * grad_dW\n",
    "            # b_new = b - eta * grad_db.T\n",
    "\n",
    "            if count % check_w_after == 0:\n",
    "                if (np.linalg.norm(W_new - W[-1])) < tol and (loss_history[-1] - np.log(1/C) < tol):\n",
    "                    return W, loss_history\n",
    "\n",
    "            W.append(W_new)\n",
    "            # b = b_new\n",
    "        \n",
    "        Z_all = np.dot(X, W[-1])\n",
    "        a_all = softmax(Z_all)\n",
    "        cost = -np.sum(Y.T * np.log(np.clip(a_all, 1e-10, 1.0 - 1e-10)))\n",
    "        loss_history.append(cost)\n",
    "\n",
    "        count += 1\n",
    "        \n",
    "\n",
    "    return W, loss_history"
   ]
  },
  {
   "cell_type": "code",
   "execution_count": 286,
   "id": "1bafbffc",
   "metadata": {},
   "outputs": [],
   "source": [
    "def numerical_grad(X, Y, W, cost):\n",
    "    \"\"\"\n",
    "    计算损失函数对权重矩阵 W 的数值梯度。\n",
    "\n",
    "    本函数使用中心差分法 (central difference method) 近似计算梯度：\n",
    "    ∂J/∂W[i,j] ≈ (J(W+ε) - J(W-ε)) / (2ε)\n",
    "\n",
    "    参数\n",
    "    ----------\n",
    "    X : np.ndarray\n",
    "        输入数据矩阵，形状为 (d, n)，其中 `d` 是特征维度，`n` 是样本数量。\n",
    "    Y : np.ndarray\n",
    "        真实标签或目标值，具体形状依赖于损失函数的定义。\n",
    "    W : np.ndarray\n",
    "        权重矩阵，形状为 (m, d)，其中 `m` 通常为输出类别数。\n",
    "    cost : callable\n",
    "        损失函数，接受参数 (X, Y, W) 并返回一个标量损失值。\n",
    "\n",
    "    返回值\n",
    "    -------\n",
    "    g : np.ndarray\n",
    "        数值梯度矩阵，形状与 W 相同，其中 g[i, j] 近似表示 ∂(cost)/∂W[i, j]。\n",
    "\n",
    "    注意事项\n",
    "    -----\n",
    "    - 数值梯度计算开销较大，建议仅用于梯度检查或调试，**不适合训练过程使用**。\n",
    "    - 使用中心差分法（比单边差分更准确）来提高数值稳定性。\n",
    "\n",
    "    示例\n",
    "    -------\n",
    "    >>> def simple_cost(X, Y, W):\n",
    "    ...     predictions = W @ X\n",
    "    ...     return np.sum((predictions - Y)**2)\n",
    "    >>> X = np.random.randn(2, 5)\n",
    "    >>> Y = np.random.randn(3, 5)\n",
    "    >>> W = np.random.randn(3, 2)\n",
    "    >>> grad = numerical_grad(X, Y, W, simple_cost)\n",
    "    >>> grad.shape\n",
    "    (3, 2)\n",
    "    \"\"\"\n",
    "    eps = 1e-6\n",
    "    g = np.zeros_like(W)\n",
    "    for i in range(W.shape[0]):\n",
    "        for j in range(W.shape[1]):\n",
    "            W_p = W.copy()\n",
    "            W_n = W.copy()\n",
    "            W_p[i, j] += eps \n",
    "            W_n[i, j] -= eps\n",
    "            g[i,j] = (cost(X, Y, W_p) - cost(X, Y, W_n))/(2*eps)\n",
    "    return g "
   ]
  },
  {
   "cell_type": "code",
   "execution_count": 287,
   "id": "a18b1856",
   "metadata": {},
   "outputs": [],
   "source": [
    "def cost(X, Y, W):\n",
    "    \"\"\"\n",
    "    计算多类别分类任务中的交叉熵损失函数(cross-entropy loss)。\n",
    "\n",
    "    此函数假设模型输出为 softmax 层，适用于多分类问题中的损失计算。\n",
    "    给定输入 X, 标签 Y, 和权重矩阵 W, 返回整体的交叉熵损失。\n",
    "\n",
    "    参数\n",
    "    ----------\n",
    "    X : np.ndarray\n",
    "        输入特征矩阵，形状为 (d, n)，其中 d 是特征数, n 是样本数量。\n",
    "    Y : np.ndarray\n",
    "        真实标签的 one-hot 编码矩阵，形状为 (C, n), C 是类别数。\n",
    "    W : np.ndarray\n",
    "        权重矩阵，形状为 (d, C)，用于将输入特征映射到 C 个类别。\n",
    "\n",
    "    返回值\n",
    "    -------\n",
    "    loss : float\n",
    "        整体交叉熵损失（一个标量），衡量预测分布与真实分布之间的差异。\n",
    "\n",
    "    数学表达\n",
    "    --------\n",
    "    给定 softmax 输出 A:\n",
    "        A = softmax(WᵗX)  \n",
    "    损失函数定义为：\n",
    "        L = -∑ Y * log(A)\n",
    "    其中：\n",
    "        - Y 为 one-hot 编码标签\n",
    "        - A 为 softmax 输出，每列为一个样本对各类别的预测概率\n",
    "\n",
    "    注意事项\n",
    "    --------\n",
    "    - 假设输入 Y 是 one-hot 编码。\n",
    "    - 为了避免数值不稳定，实际使用时可加上 ε 平滑项：`np.log(A + 1e-10)`。\n",
    "    \"\"\"\n",
    "    A = softmax(W.T.dot(X))\n",
    "    return -np.sum(Y*np.log(A))"
   ]
  },
  {
   "cell_type": "markdown",
   "id": "26509f65",
   "metadata": {},
   "source": [
    "GO FOR CHECK PROGRAMMING RESULT"
   ]
  },
  {
   "cell_type": "code",
   "execution_count": 288,
   "id": "82517e0c",
   "metadata": {},
   "outputs": [
    {
     "data": {
      "text/plain": [
       "((3, 150),\n",
       " array([[1, 1, 1, 1, 1, 1, 1, 1, 1, 1, 1, 1, 1, 1, 1, 1, 1, 1, 1, 1, 1, 1,\n",
       "         1, 1, 1, 1, 1, 1, 1, 1, 1, 1, 1, 1, 1, 1, 1, 1, 1, 1, 1, 1, 1, 1,\n",
       "         1, 1, 1, 1, 1, 1, 0, 0, 0, 0, 0, 0, 0, 0, 0, 0, 0, 0, 0, 0, 0, 0,\n",
       "         0, 0, 0, 0, 0, 0, 0, 0, 0, 0, 0, 0, 0, 0, 0, 0, 0, 0, 0, 0, 0, 0,\n",
       "         0, 0, 0, 0, 0, 0, 0, 0, 0, 0, 0, 0, 0, 0, 0, 0, 0, 0, 0, 0, 0, 0,\n",
       "         0, 0, 0, 0, 0, 0, 0, 0, 0, 0, 0, 0, 0, 0, 0, 0, 0, 0, 0, 0, 0, 0,\n",
       "         0, 0, 0, 0, 0, 0, 0, 0, 0, 0, 0, 0, 0, 0, 0, 0, 0, 0],\n",
       "        [0, 0, 0, 0, 0, 0, 0, 0, 0, 0, 0, 0, 0, 0, 0, 0, 0, 0, 0, 0, 0, 0,\n",
       "         0, 0, 0, 0, 0, 0, 0, 0, 0, 0, 0, 0, 0, 0, 0, 0, 0, 0, 0, 0, 0, 0,\n",
       "         0, 0, 0, 0, 0, 0, 1, 1, 1, 1, 1, 1, 1, 1, 1, 1, 1, 1, 1, 1, 1, 1,\n",
       "         1, 1, 1, 1, 1, 1, 1, 1, 1, 1, 1, 1, 1, 1, 1, 1, 1, 1, 1, 1, 1, 1,\n",
       "         1, 1, 1, 1, 1, 1, 1, 1, 1, 1, 1, 1, 0, 0, 0, 0, 0, 0, 0, 0, 0, 0,\n",
       "         0, 0, 0, 0, 0, 0, 0, 0, 0, 0, 0, 0, 0, 0, 0, 0, 0, 0, 0, 0, 0, 0,\n",
       "         0, 0, 0, 0, 0, 0, 0, 0, 0, 0, 0, 0, 0, 0, 0, 0, 0, 0],\n",
       "        [0, 0, 0, 0, 0, 0, 0, 0, 0, 0, 0, 0, 0, 0, 0, 0, 0, 0, 0, 0, 0, 0,\n",
       "         0, 0, 0, 0, 0, 0, 0, 0, 0, 0, 0, 0, 0, 0, 0, 0, 0, 0, 0, 0, 0, 0,\n",
       "         0, 0, 0, 0, 0, 0, 0, 0, 0, 0, 0, 0, 0, 0, 0, 0, 0, 0, 0, 0, 0, 0,\n",
       "         0, 0, 0, 0, 0, 0, 0, 0, 0, 0, 0, 0, 0, 0, 0, 0, 0, 0, 0, 0, 0, 0,\n",
       "         0, 0, 0, 0, 0, 0, 0, 0, 0, 0, 0, 0, 1, 1, 1, 1, 1, 1, 1, 1, 1, 1,\n",
       "         1, 1, 1, 1, 1, 1, 1, 1, 1, 1, 1, 1, 1, 1, 1, 1, 1, 1, 1, 1, 1, 1,\n",
       "         1, 1, 1, 1, 1, 1, 1, 1, 1, 1, 1, 1, 1, 1, 1, 1, 1, 1]]))"
      ]
     },
     "execution_count": 288,
     "metadata": {},
     "output_type": "execute_result"
    }
   ],
   "source": [
    "C = len(unique_jobs) #class based on Y\n",
    "Y = convert_labels(y_encoded, C)\n",
    "Y.shape, Y"
   ]
  },
  {
   "cell_type": "code",
   "execution_count": 357,
   "id": "e4003be8",
   "metadata": {},
   "outputs": [
    {
     "data": {
      "text/plain": [
       "array([[ 0.88627031, -0.38733642,  0.87746245],\n",
       "       [ 0.73983412, -0.03818015, -0.80369427],\n",
       "       [-0.14413971,  0.90162217, -0.34941391],\n",
       "       [-0.32130492,  0.28836927, -0.61006509],\n",
       "       [ 0.3309827 , -0.33877507, -0.18087707]])"
      ]
     },
     "execution_count": 357,
     "metadata": {},
     "output_type": "execute_result"
    }
   ],
   "source": [
    "d = X_encoded.shape[1] #features based on X\n",
    "W_init = np.random.randn(d, C) * np.sqrt(2. / d)\n",
    "W_init.shape, np.array(X_encoded).T.shape, Y.shape\n",
    "W_init"
   ]
  },
  {
   "cell_type": "markdown",
   "id": "226dd10a",
   "metadata": {},
   "source": [
    "CHECKING TRAINED DATA"
   ]
  },
  {
   "cell_type": "code",
   "execution_count": 241,
   "id": "716de9fd",
   "metadata": {},
   "outputs": [],
   "source": [
    "g1 = grad(softmax(np.dot(W_init.T, np.array(X_encoded).T)), np.array(X_encoded).T, Y)\n",
    "g2 = numerical_grad(np.array(X_encoded).T, Y, W_init, cost)"
   ]
  },
  {
   "cell_type": "code",
   "execution_count": 242,
   "id": "bc7505fb",
   "metadata": {},
   "outputs": [
    {
     "data": {
      "text/plain": [
       "5.5347957589025636e-08"
      ]
     },
     "execution_count": 242,
     "metadata": {},
     "output_type": "execute_result"
    }
   ],
   "source": [
    "gap = np.linalg.norm(g1 - g2)\n",
    "gap"
   ]
  },
  {
   "cell_type": "markdown",
   "id": "7a0aefc7",
   "metadata": {},
   "source": [
    "START TO TRAIN"
   ]
  },
  {
   "cell_type": "code",
   "execution_count": 365,
   "id": "5ee0b41c",
   "metadata": {},
   "outputs": [],
   "source": [
    "W, losses = softmax_regression(W[-1], np.array(X_encoded), Y, 0.001, max_count=100000)"
   ]
  },
  {
   "cell_type": "code",
   "execution_count": 366,
   "id": "3c9a29e5",
   "metadata": {},
   "outputs": [
    {
     "data": {
      "text/plain": [
       "(array([[ 3.90980473,  1.0260188 , -3.55942719],\n",
       "        [-3.28357828, -1.25602308,  4.43756107],\n",
       "        [-1.14401769,  1.09713446,  0.45495178],\n",
       "        [ 2.72694485, -4.31271344,  0.94276786],\n",
       "        [-3.71714505,  4.45781993, -0.92934432]]),\n",
       " 586.9483466710376)"
      ]
     },
     "execution_count": 366,
     "metadata": {},
     "output_type": "execute_result"
    }
   ],
   "source": [
    "W[-1], losses[-1]"
   ]
  },
  {
   "cell_type": "markdown",
   "id": "21839bc3",
   "metadata": {},
   "source": [
    "STORED WEIGHT MATRIX"
   ]
  },
  {
   "cell_type": "code",
   "execution_count": 331,
   "id": "27b1fb18",
   "metadata": {},
   "outputs": [],
   "source": [
    "with open('output.txt', 'w') as f:\n",
    "    f.write(str(W[-1]))"
   ]
  },
  {
   "cell_type": "markdown",
   "id": "b2a72b05",
   "metadata": {},
   "source": [
    "ACCURACY PERFORMANCE"
   ]
  },
  {
   "cell_type": "code",
   "execution_count": 368,
   "id": "6b658ab1",
   "metadata": {},
   "outputs": [
    {
     "data": {
      "text/plain": [
       "[0,\n",
       " 0,\n",
       " 0,\n",
       " 0,\n",
       " 0,\n",
       " 0,\n",
       " 0,\n",
       " 0,\n",
       " 0,\n",
       " 0,\n",
       " 0,\n",
       " 0,\n",
       " 0,\n",
       " 0,\n",
       " 0,\n",
       " 0,\n",
       " 0,\n",
       " 0,\n",
       " 0,\n",
       " 0,\n",
       " 0,\n",
       " 0,\n",
       " 0,\n",
       " 0,\n",
       " 0,\n",
       " 0,\n",
       " 0,\n",
       " 0,\n",
       " 0,\n",
       " 0,\n",
       " 0,\n",
       " 0,\n",
       " 0,\n",
       " 0,\n",
       " 0,\n",
       " 0,\n",
       " 0,\n",
       " 0,\n",
       " 0,\n",
       " 0,\n",
       " 0,\n",
       " 0,\n",
       " 0,\n",
       " 0,\n",
       " 0,\n",
       " 0,\n",
       " 0,\n",
       " 0,\n",
       " 0,\n",
       " 0,\n",
       " 1,\n",
       " 1,\n",
       " 1,\n",
       " 1,\n",
       " 1,\n",
       " 1,\n",
       " 1,\n",
       " 1,\n",
       " 1,\n",
       " 1,\n",
       " 1,\n",
       " 1,\n",
       " 1,\n",
       " 1,\n",
       " 1,\n",
       " 1,\n",
       " 1,\n",
       " 1,\n",
       " 1,\n",
       " 1,\n",
       " 1,\n",
       " 1,\n",
       " 1,\n",
       " 1,\n",
       " 1,\n",
       " 1,\n",
       " 1,\n",
       " 1,\n",
       " 1,\n",
       " 1,\n",
       " 1,\n",
       " 1,\n",
       " 1,\n",
       " 1,\n",
       " 1,\n",
       " 1,\n",
       " 1,\n",
       " 1,\n",
       " 1,\n",
       " 1,\n",
       " 1,\n",
       " 1,\n",
       " 1,\n",
       " 1,\n",
       " 1,\n",
       " 1,\n",
       " 1,\n",
       " 1,\n",
       " 1,\n",
       " 1,\n",
       " 2,\n",
       " 2,\n",
       " 2,\n",
       " 2,\n",
       " 2,\n",
       " 2,\n",
       " 2,\n",
       " 2,\n",
       " 2,\n",
       " 2,\n",
       " 2,\n",
       " 2,\n",
       " 2,\n",
       " 2,\n",
       " 2,\n",
       " 2,\n",
       " 2,\n",
       " 2,\n",
       " 2,\n",
       " 2,\n",
       " 2,\n",
       " 2,\n",
       " 2,\n",
       " 2,\n",
       " 2,\n",
       " 2,\n",
       " 2,\n",
       " 2,\n",
       " 2,\n",
       " 2,\n",
       " 2,\n",
       " 2,\n",
       " 2,\n",
       " 2,\n",
       " 2,\n",
       " 2,\n",
       " 2,\n",
       " 2,\n",
       " 2,\n",
       " 2,\n",
       " 2,\n",
       " 2,\n",
       " 2,\n",
       " 2,\n",
       " 2,\n",
       " 2,\n",
       " 2,\n",
       " 2,\n",
       " 2,\n",
       " 2]"
      ]
     },
     "execution_count": 368,
     "metadata": {},
     "output_type": "execute_result"
    }
   ],
   "source": [
    "result = []\n",
    "maxes = []\n",
    "for x in np.array(X_encoded):\n",
    "    a = softmax(np.dot(W[-1].T, x.reshape(d,1)))\n",
    "    result.append(np.argmax(a, axis=0)[0])\n",
    "result"
   ]
  },
  {
   "cell_type": "code",
   "execution_count": 418,
   "id": "f82757a0",
   "metadata": {},
   "outputs": [
    {
     "data": {
      "text/plain": [
       "100.0"
      ]
     },
     "execution_count": 418,
     "metadata": {},
     "output_type": "execute_result"
    }
   ],
   "source": [
    "from sklearn.metrics import accuracy_score\n",
    "\n",
    "accuracy = accuracy_score(result, y_encoded)\n",
    "accuracy = accuracy * 100 \n",
    "accuracy"
   ]
  },
  {
   "cell_type": "markdown",
   "id": "dd19b403",
   "metadata": {},
   "source": [
    "PREDICTION"
   ]
  },
  {
   "cell_type": "code",
   "execution_count": 374,
   "id": "b9917740",
   "metadata": {},
   "outputs": [],
   "source": [
    "def map_to_qualitative(value):\n",
    "    if 0 <= value <= 10:\n",
    "        return 'POOR'\n",
    "    elif 11 <= value <= 14:\n",
    "        return 'AVG'\n",
    "    elif value >= 15:\n",
    "        return 'BEST'\n",
    "    else:\n",
    "        return 'NA'"
   ]
  },
  {
   "cell_type": "code",
   "execution_count": 383,
   "id": "6ac109e7",
   "metadata": {},
   "outputs": [],
   "source": [
    "def parse_X_predict(X_array):\n",
    "    result = [map_to_qualitative(value) for value in X_array]\n",
    "    return np.array(result)"
   ]
  },
  {
   "cell_type": "code",
   "execution_count": 434,
   "id": "e421078d",
   "metadata": {},
   "outputs": [
    {
     "data": {
      "application/vnd.microsoft.datawrangler.viewer.v0+json": {
       "columns": [
        {
         "name": "index",
         "rawType": "int64",
         "type": "integer"
        },
        {
         "name": "P1_POOR",
         "rawType": "int64",
         "type": "integer"
        },
        {
         "name": "P2_POOR",
         "rawType": "int64",
         "type": "integer"
        },
        {
         "name": "P3_AVG",
         "rawType": "int64",
         "type": "integer"
        }
       ],
       "ref": "f8f72490-8292-4998-a40f-6ee9c894dfff",
       "rows": [
        [
         "0",
         "1",
         "1",
         "1"
        ]
       ],
       "shape": {
        "columns": 3,
        "rows": 1
       }
      },
      "text/html": [
       "<div>\n",
       "<style scoped>\n",
       "    .dataframe tbody tr th:only-of-type {\n",
       "        vertical-align: middle;\n",
       "    }\n",
       "\n",
       "    .dataframe tbody tr th {\n",
       "        vertical-align: top;\n",
       "    }\n",
       "\n",
       "    .dataframe thead th {\n",
       "        text-align: right;\n",
       "    }\n",
       "</style>\n",
       "<table border=\"1\" class=\"dataframe\">\n",
       "  <thead>\n",
       "    <tr style=\"text-align: right;\">\n",
       "      <th></th>\n",
       "      <th>P1_POOR</th>\n",
       "      <th>P2_POOR</th>\n",
       "      <th>P3_AVG</th>\n",
       "    </tr>\n",
       "  </thead>\n",
       "  <tbody>\n",
       "    <tr>\n",
       "      <th>0</th>\n",
       "      <td>1</td>\n",
       "      <td>1</td>\n",
       "      <td>1</td>\n",
       "    </tr>\n",
       "  </tbody>\n",
       "</table>\n",
       "</div>"
      ],
      "text/plain": [
       "   P1_POOR  P2_POOR  P3_AVG\n",
       "0        1        1       1"
      ]
     },
     "execution_count": 434,
     "metadata": {},
     "output_type": "execute_result"
    }
   ],
   "source": [
    "X_predict = [1, 1, 12]\n",
    "X_predict_label = parse_X_predict(X_predict)\n",
    "X_predict_df = pd.DataFrame([X_predict_label], columns=cols_to_encode)\n",
    "X_predict_encode = one_hot_encode(X_predict_df, cols_to_encode, valid_categories)\n",
    "X_predict_encode"
   ]
  },
  {
   "cell_type": "code",
   "execution_count": 435,
   "id": "f5dd70c1",
   "metadata": {},
   "outputs": [
    {
     "data": {
      "application/vnd.microsoft.datawrangler.viewer.v0+json": {
       "columns": [
        {
         "name": "index",
         "rawType": "int64",
         "type": "integer"
        },
        {
         "name": "P1_AVG",
         "rawType": "float64",
         "type": "float"
        },
        {
         "name": "P1_POOR",
         "rawType": "int64",
         "type": "integer"
        },
        {
         "name": "P2_POOR",
         "rawType": "int64",
         "type": "integer"
        },
        {
         "name": "P3_AVG",
         "rawType": "int64",
         "type": "integer"
        },
        {
         "name": "P3_BEST",
         "rawType": "float64",
         "type": "float"
        }
       ],
       "ref": "e04bf7ec-9e19-467a-a25d-1ab6310de6ee",
       "rows": [
        [
         "0",
         "0.0",
         "1",
         "1",
         "1",
         "0.0"
        ]
       ],
       "shape": {
        "columns": 5,
        "rows": 1
       }
      },
      "text/html": [
       "<div>\n",
       "<style scoped>\n",
       "    .dataframe tbody tr th:only-of-type {\n",
       "        vertical-align: middle;\n",
       "    }\n",
       "\n",
       "    .dataframe tbody tr th {\n",
       "        vertical-align: top;\n",
       "    }\n",
       "\n",
       "    .dataframe thead th {\n",
       "        text-align: right;\n",
       "    }\n",
       "</style>\n",
       "<table border=\"1\" class=\"dataframe\">\n",
       "  <thead>\n",
       "    <tr style=\"text-align: right;\">\n",
       "      <th></th>\n",
       "      <th>P1_AVG</th>\n",
       "      <th>P1_POOR</th>\n",
       "      <th>P2_POOR</th>\n",
       "      <th>P3_AVG</th>\n",
       "      <th>P3_BEST</th>\n",
       "    </tr>\n",
       "  </thead>\n",
       "  <tbody>\n",
       "    <tr>\n",
       "      <th>0</th>\n",
       "      <td>0.0</td>\n",
       "      <td>1</td>\n",
       "      <td>1</td>\n",
       "      <td>1</td>\n",
       "      <td>0.0</td>\n",
       "    </tr>\n",
       "  </tbody>\n",
       "</table>\n",
       "</div>"
      ],
      "text/plain": [
       "   P1_AVG  P1_POOR  P2_POOR  P3_AVG  P3_BEST\n",
       "0     0.0        1        1       1      0.0"
      ]
     },
     "execution_count": 435,
     "metadata": {},
     "output_type": "execute_result"
    }
   ],
   "source": [
    "train_cols = X_encoded.columns.to_list()\n",
    "input_cols = X_predict_encode.columns.to_list()\n",
    "input_values = X_predict_encode.iloc[0].values\n",
    "\n",
    "df_transformed_input = pd.DataFrame(np.zeros((1, len(train_cols))), columns=train_cols)\n",
    "\n",
    "for col, val in zip(input_cols, input_values):\n",
    "    if val == 1 and col in df_transformed_input:\n",
    "        df_transformed_input[col] = val\n",
    "\n",
    "df_transformed_input"
   ]
  },
  {
   "cell_type": "code",
   "execution_count": 436,
   "id": "96f98c04",
   "metadata": {},
   "outputs": [
    {
     "data": {
      "text/plain": [
       "array([[5.33261504e-04],\n",
       "       [3.33834741e-05],\n",
       "       [9.99433355e-01]])"
      ]
     },
     "execution_count": 436,
     "metadata": {},
     "output_type": "execute_result"
    }
   ],
   "source": [
    "prods = softmax(np.dot(W[-1].T, df_transformed_input.T))\n",
    "prods"
   ]
  },
  {
   "cell_type": "code",
   "execution_count": 437,
   "id": "f55c6e25",
   "metadata": {},
   "outputs": [
    {
     "data": {
      "text/plain": [
       "'Marine Biologist\\n'"
      ]
     },
     "execution_count": 437,
     "metadata": {},
     "output_type": "execute_result"
    }
   ],
   "source": [
    "y_predict = np.argmax(prods, axis=0)[0]\n",
    "unique_jobs[y_predict]\n"
   ]
  }
 ],
 "metadata": {
  "kernelspec": {
   "display_name": "Python 3",
   "language": "python",
   "name": "python3"
  },
  "language_info": {
   "codemirror_mode": {
    "name": "ipython",
    "version": 3
   },
   "file_extension": ".py",
   "mimetype": "text/x-python",
   "name": "python",
   "nbconvert_exporter": "python",
   "pygments_lexer": "ipython3",
   "version": "3.12.1"
  }
 },
 "nbformat": 4,
 "nbformat_minor": 5
}
